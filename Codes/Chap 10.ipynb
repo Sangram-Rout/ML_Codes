{
 "cells": [
  {
   "cell_type": "code",
   "execution_count": 7,
   "id": "8e828908",
   "metadata": {},
   "outputs": [
    {
     "data": {
      "text/plain": [
       "'2.3.0'"
      ]
     },
     "execution_count": 7,
     "metadata": {},
     "output_type": "execute_result"
    }
   ],
   "source": [
    "import tensorflow as tf\n",
    "from tensorflow import keras\n",
    "tf.__version__"
   ]
  },
  {
   "cell_type": "code",
   "execution_count": 2,
   "id": "844ed783",
   "metadata": {},
   "outputs": [
    {
     "data": {
      "text/plain": [
       "'2.4.0'"
      ]
     },
     "execution_count": 2,
     "metadata": {},
     "output_type": "execute_result"
    }
   ],
   "source": [
    "keras.__version__"
   ]
  },
  {
   "cell_type": "code",
   "execution_count": 3,
   "id": "e78b98f5",
   "metadata": {},
   "outputs": [],
   "source": [
    "fashion_mnist = keras.datasets.fashion_mnist\n",
    "(X_train_full, y_train_full), (X_test, y_test)= fashion_mnist.load_data()"
   ]
  },
  {
   "cell_type": "code",
   "execution_count": 4,
   "id": "0626eba1",
   "metadata": {
    "scrolled": true
   },
   "outputs": [
    {
     "data": {
      "text/plain": [
       "(10000, 28, 28)"
      ]
     },
     "execution_count": 4,
     "metadata": {},
     "output_type": "execute_result"
    }
   ],
   "source": [
    "X_test.shape"
   ]
  },
  {
   "cell_type": "code",
   "execution_count": 5,
   "id": "8b38a2de",
   "metadata": {},
   "outputs": [
    {
     "data": {
      "text/plain": [
       "(10000,)"
      ]
     },
     "execution_count": 5,
     "metadata": {},
     "output_type": "execute_result"
    }
   ],
   "source": [
    "y_test.shape"
   ]
  },
  {
   "cell_type": "code",
   "execution_count": 6,
   "id": "b9d0a33b",
   "metadata": {},
   "outputs": [
    {
     "data": {
      "text/plain": [
       "dtype('uint8')"
      ]
     },
     "execution_count": 6,
     "metadata": {},
     "output_type": "execute_result"
    }
   ],
   "source": [
    "X_train_full.shape\n",
    "X_train_full.dtype"
   ]
  },
  {
   "cell_type": "code",
   "execution_count": 7,
   "id": "c9014d1f",
   "metadata": {},
   "outputs": [],
   "source": [
    "X_valid, X_train = X_train_full[:5000]/255.0,X_train_full[5000:]/255.0\n",
    "y_valid, y_train =y_train_full[:5000], y_train_full[5000:]\n",
    "# Divide by 255 for scaling purposes between 0-1"
   ]
  },
  {
   "cell_type": "code",
   "execution_count": 8,
   "id": "8deea475",
   "metadata": {},
   "outputs": [
    {
     "data": {
      "text/plain": [
       "3920000"
      ]
     },
     "execution_count": 8,
     "metadata": {},
     "output_type": "execute_result"
    }
   ],
   "source": [
    "X_valid.size"
   ]
  },
  {
   "cell_type": "code",
   "execution_count": 9,
   "id": "444013b5",
   "metadata": {
    "scrolled": true
   },
   "outputs": [
    {
     "data": {
      "text/plain": [
       "43120000"
      ]
     },
     "execution_count": 9,
     "metadata": {},
     "output_type": "execute_result"
    }
   ],
   "source": [
    "X_train.size"
   ]
  },
  {
   "cell_type": "code",
   "execution_count": 10,
   "id": "d7e9ed3d",
   "metadata": {},
   "outputs": [
    {
     "data": {
      "text/plain": [
       "47040000"
      ]
     },
     "execution_count": 10,
     "metadata": {},
     "output_type": "execute_result"
    }
   ],
   "source": [
    "X_train_full.size"
   ]
  },
  {
   "cell_type": "code",
   "execution_count": 26,
   "id": "b91d5119",
   "metadata": {},
   "outputs": [],
   "source": [
    "# X_train_full"
   ]
  },
  {
   "cell_type": "code",
   "execution_count": 12,
   "id": "11afa48e",
   "metadata": {
    "scrolled": true
   },
   "outputs": [],
   "source": [
    "class_names = [\"T-shirt/top\", \"Trouser\", \"Pullover\", \"Dress\", \"Coat\", \"Sandal\", \"Shirt\", \"Sneaker\", \"Bag\", \"Ankle boot\" ]"
   ]
  },
  {
   "cell_type": "code",
   "execution_count": 13,
   "id": "9f0db06c",
   "metadata": {},
   "outputs": [
    {
     "data": {
      "text/plain": [
       "'Coat'"
      ]
     },
     "execution_count": 13,
     "metadata": {},
     "output_type": "execute_result"
    }
   ],
   "source": [
    "class_names[y_train[0]]"
   ]
  },
  {
   "cell_type": "code",
   "execution_count": 14,
   "id": "8062c804",
   "metadata": {},
   "outputs": [
    {
     "data": {
      "text/plain": [
       "4"
      ]
     },
     "execution_count": 14,
     "metadata": {},
     "output_type": "execute_result"
    }
   ],
   "source": [
    "y_train[0]"
   ]
  },
  {
   "cell_type": "code",
   "execution_count": 63,
   "id": "43166579",
   "metadata": {},
   "outputs": [],
   "source": [
    "model = keras.models.Sequential()\n",
    "model.add(keras.layers.Flatten(input_shape=[28,28]))\n",
    "model.add(keras.layers.Dense(300, activation =\"relu\"))\n",
    "model.add(keras.layers.Dense(100, activation=\"relu\"))\n",
    "model.add(keras.layers.Dense(10, activation=\"softmax\"))\n",
    "# Final evaluation is a classification problem wherein we have to select between 10 values \n",
    "# softmax is ideal as we would then have a probability of x being equal to some else something else"
   ]
  },
  {
   "cell_type": "code",
   "execution_count": 16,
   "id": "1fce5f30",
   "metadata": {},
   "outputs": [],
   "source": [
    "# First single set of API's developed from keras\n",
    "# New layer added to model/preprocessing step\n",
    "# 3. dense hidden layer with 300 neurons and relu activation function\n",
    "# 4. second hidden layer with neurons and relu activation function\n",
    "# 5. function with 10 classes-output one for each"
   ]
  },
  {
   "cell_type": "code",
   "execution_count": 55,
   "id": "24c141f0",
   "metadata": {},
   "outputs": [
    {
     "name": "stdout",
     "output_type": "stream",
     "text": [
      "Model: \"sequential_2\"\n",
      "_________________________________________________________________\n",
      "Layer (type)                 Output Shape              Param #   \n",
      "=================================================================\n",
      "flatten_2 (Flatten)          (None, 784)               0         \n",
      "_________________________________________________________________\n",
      "dense_6 (Dense)              (None, 300)               235500    \n",
      "_________________________________________________________________\n",
      "dense_7 (Dense)              (None, 300)               90300     \n",
      "_________________________________________________________________\n",
      "dense_8 (Dense)              (None, 100)               30100     \n",
      "_________________________________________________________________\n",
      "dense_9 (Dense)              (None, 10)                1010      \n",
      "=================================================================\n",
      "Total params: 356,910\n",
      "Trainable params: 356,910\n",
      "Non-trainable params: 0\n",
      "_________________________________________________________________\n"
     ]
    }
   ],
   "source": [
    "model.summary()"
   ]
  },
  {
   "cell_type": "code",
   "execution_count": 56,
   "id": "d31fcbff",
   "metadata": {},
   "outputs": [
    {
     "data": {
      "text/plain": [
       "'dense_6'"
      ]
     },
     "execution_count": 56,
     "metadata": {},
     "output_type": "execute_result"
    }
   ],
   "source": [
    "hidden1=model.layers[1]\n",
    "hidden1.name"
   ]
  },
  {
   "cell_type": "code",
   "execution_count": 57,
   "id": "2ce2629b",
   "metadata": {},
   "outputs": [],
   "source": [
    "weights, biases = hidden1.get_weights()"
   ]
  },
  {
   "cell_type": "code",
   "execution_count": 20,
   "id": "4d850768",
   "metadata": {
    "scrolled": true
   },
   "outputs": [
    {
     "data": {
      "text/plain": [
       "(784, 300)"
      ]
     },
     "execution_count": 20,
     "metadata": {},
     "output_type": "execute_result"
    }
   ],
   "source": [
    "weights.shape"
   ]
  },
  {
   "cell_type": "code",
   "execution_count": 58,
   "id": "bbeb7a7f",
   "metadata": {},
   "outputs": [
    {
     "data": {
      "text/plain": [
       "array([[-0.02990543, -0.06551526,  0.06391715, ..., -0.06453338,\n",
       "        -0.0240176 ,  0.00102703],\n",
       "       [ 0.00588735, -0.06849927,  0.0574522 , ..., -0.01826901,\n",
       "        -0.00101209,  0.02254261],\n",
       "       [-0.01257364,  0.04291601,  0.01388258, ...,  0.05427918,\n",
       "        -0.04549875, -0.06607477],\n",
       "       ...,\n",
       "       [-0.06957345, -0.07180129, -0.00575317, ...,  0.06839702,\n",
       "         0.01340085, -0.05910885],\n",
       "       [-0.04480129,  0.02607704,  0.03340407, ...,  0.07057977,\n",
       "        -0.05724777, -0.01623755],\n",
       "       [-0.03722001, -0.05865268, -0.07064929, ...,  0.0134689 ,\n",
       "        -0.03547816, -0.03449786]], dtype=float32)"
      ]
     },
     "execution_count": 58,
     "metadata": {},
     "output_type": "execute_result"
    }
   ],
   "source": [
    "weights"
   ]
  },
  {
   "cell_type": "code",
   "execution_count": 59,
   "id": "3c3905f3",
   "metadata": {},
   "outputs": [
    {
     "data": {
      "text/plain": [
       "(300,)"
      ]
     },
     "execution_count": 59,
     "metadata": {},
     "output_type": "execute_result"
    }
   ],
   "source": [
    "biases.shape"
   ]
  },
  {
   "cell_type": "code",
   "execution_count": 77,
   "id": "aae189e7",
   "metadata": {},
   "outputs": [],
   "source": [
    "model.compile(loss=\"sparse_categorical_crossentropy\", \n",
    "            optimizer=\"sgd\",\n",
    "             metrics=[\"accuracy\"])\n",
    "# Key difference between categorical and spare result types\n",
    "# \"sgd\" means Stochastic Gradient Descent\n",
    "#               optimizer =keras.optimizers.Nadam(learning_rate=0.001, beta_1=0.9, beta_2=0.999, \n",
    "#                                                 epsilon=1e-07, name=\"Nadam\"),"
   ]
  },
  {
   "cell_type": "code",
   "execution_count": 78,
   "id": "9e0b202e",
   "metadata": {},
   "outputs": [
    {
     "name": "stdout",
     "output_type": "stream",
     "text": [
      "Epoch 1/30\n",
      "1719/1719 [==============================] - 8s 5ms/step - loss: 0.0862 - accuracy: 0.9678 - val_loss: 0.4038 - val_accuracy: 0.9058\n",
      "Epoch 2/30\n",
      "1719/1719 [==============================] - 8s 4ms/step - loss: 0.0759 - accuracy: 0.9720 - val_loss: 0.4101 - val_accuracy: 0.9070\n",
      "Epoch 3/30\n",
      "1719/1719 [==============================] - 8s 5ms/step - loss: 0.0722 - accuracy: 0.9732 - val_loss: 0.4173 - val_accuracy: 0.9064\n",
      "Epoch 4/30\n",
      "1719/1719 [==============================] - 8s 5ms/step - loss: 0.0701 - accuracy: 0.9738 - val_loss: 0.4161 - val_accuracy: 0.9070\n",
      "Epoch 5/30\n",
      "1719/1719 [==============================] - 8s 5ms/step - loss: 0.0683 - accuracy: 0.9749 - val_loss: 0.4227 - val_accuracy: 0.9074\n",
      "Epoch 6/30\n",
      "1719/1719 [==============================] - 8s 5ms/step - loss: 0.0669 - accuracy: 0.9756 - val_loss: 0.4273 - val_accuracy: 0.9072\n",
      "Epoch 7/30\n",
      "1719/1719 [==============================] - 8s 5ms/step - loss: 0.0657 - accuracy: 0.9759 - val_loss: 0.4308 - val_accuracy: 0.9080\n",
      "Epoch 8/30\n",
      "1719/1719 [==============================] - 8s 5ms/step - loss: 0.0646 - accuracy: 0.9761 - val_loss: 0.4340 - val_accuracy: 0.9090\n",
      "Epoch 9/30\n",
      "1719/1719 [==============================] - 8s 5ms/step - loss: 0.0634 - accuracy: 0.9768 - val_loss: 0.4383 - val_accuracy: 0.9084\n",
      "Epoch 10/30\n",
      "1719/1719 [==============================] - 8s 5ms/step - loss: 0.0624 - accuracy: 0.9769 - val_loss: 0.4380 - val_accuracy: 0.9090\n",
      "Epoch 11/30\n",
      "1719/1719 [==============================] - 8s 5ms/step - loss: 0.0615 - accuracy: 0.9777 - val_loss: 0.4473 - val_accuracy: 0.9086\n",
      "Epoch 12/30\n",
      "1719/1719 [==============================] - 8s 5ms/step - loss: 0.0604 - accuracy: 0.9782 - val_loss: 0.4546 - val_accuracy: 0.9078\n",
      "Epoch 13/30\n",
      "1719/1719 [==============================] - 6s 4ms/step - loss: 0.0599 - accuracy: 0.9780 - val_loss: 0.4503 - val_accuracy: 0.9082\n",
      "Epoch 14/30\n",
      "1719/1719 [==============================] - 6s 4ms/step - loss: 0.0591 - accuracy: 0.9786 - val_loss: 0.4573 - val_accuracy: 0.9074\n",
      "Epoch 15/30\n",
      "1719/1719 [==============================] - 7s 4ms/step - loss: 0.0583 - accuracy: 0.9789 - val_loss: 0.4611 - val_accuracy: 0.9068\n",
      "Epoch 16/30\n",
      "1719/1719 [==============================] - 8s 5ms/step - loss: 0.0576 - accuracy: 0.9792 - val_loss: 0.4650 - val_accuracy: 0.9046\n",
      "Epoch 17/30\n",
      "1719/1719 [==============================] - 8s 4ms/step - loss: 0.0569 - accuracy: 0.9793 - val_loss: 0.4648 - val_accuracy: 0.9056\n",
      "Epoch 18/30\n",
      "1719/1719 [==============================] - 7s 4ms/step - loss: 0.0562 - accuracy: 0.9796 - val_loss: 0.4702 - val_accuracy: 0.9074\n",
      "Epoch 19/30\n",
      "1719/1719 [==============================] - 8s 5ms/step - loss: 0.0557 - accuracy: 0.9800 - val_loss: 0.4755 - val_accuracy: 0.9070\n",
      "Epoch 20/30\n",
      "1719/1719 [==============================] - 8s 5ms/step - loss: 0.0550 - accuracy: 0.9803 - val_loss: 0.4780 - val_accuracy: 0.9066\n",
      "Epoch 21/30\n",
      "1719/1719 [==============================] - 8s 5ms/step - loss: 0.0543 - accuracy: 0.9802 - val_loss: 0.4771 - val_accuracy: 0.9058\n",
      "Epoch 22/30\n",
      "1719/1719 [==============================] - 8s 5ms/step - loss: 0.0538 - accuracy: 0.9805 - val_loss: 0.4786 - val_accuracy: 0.9066\n",
      "Epoch 23/30\n",
      "1719/1719 [==============================] - 8s 5ms/step - loss: 0.0533 - accuracy: 0.9808 - val_loss: 0.4842 - val_accuracy: 0.9058\n",
      "Epoch 24/30\n",
      "1719/1719 [==============================] - 8s 5ms/step - loss: 0.0528 - accuracy: 0.9810 - val_loss: 0.4888 - val_accuracy: 0.9070\n",
      "Epoch 25/30\n",
      "1719/1719 [==============================] - 8s 5ms/step - loss: 0.0524 - accuracy: 0.9813 - val_loss: 0.4907 - val_accuracy: 0.9040\n",
      "Epoch 26/30\n",
      "1719/1719 [==============================] - 8s 5ms/step - loss: 0.0517 - accuracy: 0.9817 - val_loss: 0.4990 - val_accuracy: 0.9050\n",
      "Epoch 27/30\n",
      "1719/1719 [==============================] - 8s 5ms/step - loss: 0.0510 - accuracy: 0.9819 - val_loss: 0.5003 - val_accuracy: 0.9046\n",
      "Epoch 28/30\n",
      "1719/1719 [==============================] - 8s 5ms/step - loss: 0.0507 - accuracy: 0.9819 - val_loss: 0.5024 - val_accuracy: 0.9058\n",
      "Epoch 29/30\n",
      "1719/1719 [==============================] - 8s 5ms/step - loss: 0.0501 - accuracy: 0.9825 - val_loss: 0.5033 - val_accuracy: 0.9046\n",
      "Epoch 30/30\n",
      "1719/1719 [==============================] - 8s 5ms/step - loss: 0.0496 - accuracy: 0.9824 - val_loss: 0.5098 - val_accuracy: 0.9036\n"
     ]
    }
   ],
   "source": [
    "history = model.fit(X_train, y_train, epochs=30,\n",
    "... validation_data=(X_valid, y_valid))\n",
    "\n",
    "# When to implement learning rate adaptation/exponential decay over time in the optimizer\n",
    "# One can see with the increases in epoch, the validation losses are going down whereas the accuracy is \n",
    "# going up. Moreover, the accuracy for validation and training seem to be at par, therefore there is\n",
    "# no overfitting\n",
    "\n",
    "# At times, for labeling done by experts more weightage can be provided whereas for crowd sourced labels\n",
    "# less weight can be provided. Again, for screwed data  form such as more of particular instance than \n",
    "# other, one could use class_weight to balance the bias in data set"
   ]
  },
  {
   "cell_type": "code",
   "execution_count": 79,
   "id": "c40538ca",
   "metadata": {},
   "outputs": [
    {
     "data": {
      "image/png": "[encoded data removed]",
      "text/plain": [
       "<Figure size 576x360 with 1 Axes>"
      ]
     },
     "metadata": {
      "needs_background": "light"
     },
     "output_type": "display_data"
    }
   ],
   "source": [
    "# Getting plots of the data set\n",
    "# history.history is the loss and extras metric/accuracy with respect to the epoch metric\n",
    "import pandas as pd\n",
    "import matplotlib.pyplot as plt\n",
    "\n",
    "pd.DataFrame(history.history).plot(figsize=(8, 5))\n",
    "plt.grid(True)\n",
    "plt.gca().set_ylim(0,1)\n",
    "plt.show()\n",
    "# Note: Validation and training are not overlapping/simultaneous. Training must be sifted by half an epoch\n",
    "# Using standard optimiser(lr=0.01), the val_accuracy is 0.8890. Let's change that, lr=0.001, accuarcy is\n",
    "# "
   ]
  },
  {
   "cell_type": "code",
   "execution_count": 80,
   "id": "950f046a",
   "metadata": {},
   "outputs": [
    {
     "name": "stdout",
     "output_type": "stream",
     "text": [
      "313/313 [==============================] - 1s 3ms/step - loss: 127.8986 - accuracy: 0.8694\n"
     ]
    },
    {
     "data": {
      "text/plain": [
       "[127.89859771728516, 0.8694000244140625]"
      ]
     },
     "execution_count": 80,
     "metadata": {},
     "output_type": "execute_result"
    }
   ],
   "source": [
    "model.evaluate(X_test, y_test)\n",
    "# loss:91.0028? Why is this value not in decimal terms -accuracy: 0.8672"
   ]
  },
  {
   "cell_type": "code",
   "execution_count": 83,
   "id": "f96681af",
   "metadata": {},
   "outputs": [],
   "source": [
    "X_new =X_test[:3]"
   ]
  },
  {
   "cell_type": "code",
   "execution_count": 84,
   "id": "7a7852c1",
   "metadata": {},
   "outputs": [],
   "source": [
    "y_proba= model.predict(X_new)"
   ]
  },
  {
   "cell_type": "code",
   "execution_count": 85,
   "id": "89f06e96",
   "metadata": {},
   "outputs": [
    {
     "data": {
      "text/plain": [
       "array([[0., 0., 0., 0., 0., 0., 0., 0., 0., 1.],\n",
       "       [0., 0., 1., 0., 0., 0., 0., 0., 0., 0.],\n",
       "       [0., 1., 0., 0., 0., 0., 0., 0., 0., 0.]], dtype=float32)"
      ]
     },
     "execution_count": 85,
     "metadata": {},
     "output_type": "execute_result"
    }
   ],
   "source": [
    "y_proba.round(3)\n",
    "# Rounded to second decimal place. \n",
    "# SHould be showing probability, instead provides the values as 1"
   ]
  },
  {
   "cell_type": "code",
   "execution_count": 87,
   "id": "1efa9a01",
   "metadata": {},
   "outputs": [],
   "source": [
    "# y_pred= model.predict_classes(X_new)\n",
    "y_pred =(model.predict(X_new) > 0.5).astype(\"int32\")"
   ]
  },
  {
   "cell_type": "code",
   "execution_count": 88,
   "id": "54bb7666",
   "metadata": {},
   "outputs": [
    {
     "data": {
      "text/plain": [
       "array([[0, 0, 0, 0, 0, 0, 0, 0, 0, 1],\n",
       "       [0, 0, 1, 0, 0, 0, 0, 0, 0, 0],\n",
       "       [0, 1, 0, 0, 0, 0, 0, 0, 0, 0]])"
      ]
     },
     "execution_count": 88,
     "metadata": {},
     "output_type": "execute_result"
    }
   ],
   "source": [
    "y_pred"
   ]
  },
  {
   "cell_type": "code",
   "execution_count": 92,
   "id": "49940e2c",
   "metadata": {},
   "outputs": [],
   "source": [
    "\n",
    "y_pred= model.predict_classes(X_new)"
   ]
  },
  {
   "cell_type": "code",
   "execution_count": 93,
   "id": "bdf950a4",
   "metadata": {},
   "outputs": [
    {
     "data": {
      "text/plain": [
       "array([9, 2, 1], dtype=int64)"
      ]
     },
     "execution_count": 93,
     "metadata": {},
     "output_type": "execute_result"
    }
   ],
   "source": [
    "y_pred"
   ]
  },
  {
   "cell_type": "code",
   "execution_count": 95,
   "id": "f26fdb8a",
   "metadata": {},
   "outputs": [
    {
     "data": {
      "text/plain": [
       "array(['Ankle boot', 'Pullover', 'Trouser'], dtype='<U11')"
      ]
     },
     "execution_count": 95,
     "metadata": {},
     "output_type": "execute_result"
    }
   ],
   "source": [
    "import numpy as np\n",
    "np.array(class_names)[y_pred]"
   ]
  },
  {
   "cell_type": "code",
   "execution_count": 103,
   "id": "204a6525",
   "metadata": {},
   "outputs": [
    {
     "data": {
      "image/png": "[encoded data removed]",
      "text/plain": [
       "<Figure size 432x288 with 1 Axes>"
      ]
     },
     "metadata": {
      "needs_background": "light"
     },
     "output_type": "display_data"
    },
    {
     "data": {
      "image/png": "[encoded data removed]",
      "text/plain": [
       "<Figure size 432x288 with 1 Axes>"
      ]
     },
     "metadata": {
      "needs_background": "light"
     },
     "output_type": "display_data"
    },
    {
     "data": {
      "image/png": "[encoded data removed]",
      "text/plain": [
       "<Figure size 432x288 with 1 Axes>"
      ]
     },
     "metadata": {
      "needs_background": "light"
     },
     "output_type": "display_data"
    }
   ],
   "source": [
    "image1=X_new[0].reshape(28,28)\n",
    "image2=X_new[1].reshape(28,28)\n",
    "image3=X_new[2].reshape(28,28)\n",
    "\n",
    "plt.imshow(image1,cmap=\"binary\")\n",
    "plt.show()\n",
    "plt.imshow(image2,cmap=\"binary\")\n",
    "plt.show()\n",
    "plt.imshow(image3,cmap=\"binary\")\n",
    "plt.axis(\"off\")\n",
    "plt.show()"
   ]
  },
  {
   "cell_type": "markdown",
   "id": "2d6892a0",
   "metadata": {},
   "source": [
    "# Restart Kernel to run regression models"
   ]
  },
  {
   "cell_type": "code",
   "execution_count": 3,
   "id": "63916de6",
   "metadata": {},
   "outputs": [],
   "source": [
    "# Regression development using Multi-layer perceptron\n",
    "from sklearn.datasets import fetch_california_housing\n",
    "from sklearn.model_selection import train_test_split\n",
    "from sklearn.preprocessing import StandardScaler\n",
    "\n",
    "housing =fetch_california_housing()\n",
    "\n",
    "X_train_full, X_test, y_train_full, y_test = train_test_split(\n",
    "housing.data, housing.target)\n",
    "X_train, X_valid, y_train, y_valid=train_test_split(\n",
    "X_train_full, y_train_full)\n",
    "\n",
    "scaler=StandardScaler()\n",
    "X_train = scaler.fit_transform(X_train)\n",
    "X_valid = scaler.transform(X_valid)\n",
    "X_test = scaler.transform(X_test) \n"
   ]
  },
  {
   "cell_type": "code",
   "execution_count": 3,
   "id": "5a340e31",
   "metadata": {
    "scrolled": true
   },
   "outputs": [],
   "source": [
    "# Model preparation for regression analysis, one layer at the end since one value is to be output\n",
    "# Single layer perceptron/SEQUENTIAL API's\n",
    "# Evaluation of the model is done using Root_Mean_squared_error\n",
    "model = keras.models.Sequential([\n",
    "    keras.layers.Dense(30, activation =\"relu\", input_shape = X_train.shape[1:]),\n",
    "    keras.layers.Dense(1)\n",
    "])\n",
    "model.compile(loss=\"mean_squared_error\", optimizer =\"sgd\")\n",
    "# history =  model.fit(X_train, y_train, epochs=20,\n",
    "#                     validation_data=(X_valid, y_valid))\n"
   ]
  },
  {
   "cell_type": "code",
   "execution_count": 8,
   "id": "274a5280",
   "metadata": {},
   "outputs": [
    {
     "data": {
      "image/png": "[encoded data removed]",
      "text/plain": [
       "<Figure size 576x360 with 1 Axes>"
      ]
     },
     "metadata": {
      "needs_background": "light"
     },
     "output_type": "display_data"
    }
   ],
   "source": [
    "import pandas as pd\n",
    "import matplotlib.pyplot as plt\n",
    "\n",
    "pd.DataFrame(history.history).plot(figsize=(8, 5))\n",
    "plt.grid(True)\n",
    "plt.gca().set_ylim(0,1)\n",
    "plt.show()"
   ]
  },
  {
   "cell_type": "code",
   "execution_count": 6,
   "id": "fcb436c5",
   "metadata": {},
   "outputs": [
    {
     "name": "stdout",
     "output_type": "stream",
     "text": [
      "162/162 [==============================] - 0s 2ms/step - loss: 0.3641\n"
     ]
    },
    {
     "data": {
      "text/plain": [
       "array([[2.8316631],\n",
       "       [3.688012 ],\n",
       "       [4.2132072]], dtype=float32)"
      ]
     },
     "execution_count": 6,
     "metadata": {},
     "output_type": "execute_result"
    }
   ],
   "source": [
    "mse_test=model.evaluate(X_test, y_test)\n",
    "X_new = X_test[:3]\n",
    "y_pred=model.predict(X_new)\n",
    "y_pred"
   ]
  },
  {
   "cell_type": "code",
   "execution_count": 7,
   "id": "62e42955",
   "metadata": {},
   "outputs": [
    {
     "data": {
      "text/plain": [
       "array([3.312, 1.5  , 3.796])"
      ]
     },
     "execution_count": 7,
     "metadata": {},
     "output_type": "execute_result"
    }
   ],
   "source": [
    "y_test[:3]"
   ]
  },
  {
   "cell_type": "markdown",
   "id": "56d7c0b0",
   "metadata": {},
   "source": [
    "# Restart kernel"
   ]
  },
  {
   "cell_type": "code",
   "execution_count": 4,
   "id": "f1afe3d0",
   "metadata": {},
   "outputs": [],
   "source": [
    "# Building complex models using functional API\n",
    "# For Image classificaton, the input shapes were in [28*28]\n",
    "input_ = keras.layers.Input(shape=X_train.shape[1:])\n",
    "hidden1 = keras.layers.Dense(30, activation=\"relu\")(input_)\n",
    "hidden2 = keras.layers.Dense(30, activation=\"relu\")(hidden1)\n",
    "concat = keras.layers.Concatenate()([input_, hidden2])\n",
    "output = keras.layers.Dense(1)(concat)\n",
    "\n",
    "model = keras.Model(inputs=[input_], outputs=[output])\n",
    "# Keras model which inputs and outputs to use"
   ]
  },
  {
   "cell_type": "code",
   "execution_count": 10,
   "id": "3324b222",
   "metadata": {
    "scrolled": true
   },
   "outputs": [
    {
     "name": "stdout",
     "output_type": "stream",
     "text": [
      "Epoch 1/20\n",
      "363/363 [==============================] - 1s 2ms/step - loss: 2.2085 - val_loss: 0.7389\n",
      "Epoch 2/20\n",
      "363/363 [==============================] - 1s 2ms/step - loss: 0.6671 - val_loss: 0.6420\n",
      "Epoch 3/20\n",
      "363/363 [==============================] - 1s 1ms/step - loss: 0.6116 - val_loss: 0.6015\n",
      "Epoch 4/20\n",
      "363/363 [==============================] - 1s 2ms/step - loss: 0.5787 - val_loss: 0.5730\n",
      "Epoch 5/20\n",
      "363/363 [==============================] - 1s 3ms/step - loss: 0.5524 - val_loss: 0.5495\n",
      "Epoch 6/20\n",
      "363/363 [==============================] - 1s 2ms/step - loss: 0.5317 - val_loss: 0.5303\n",
      "Epoch 7/20\n",
      "363/363 [==============================] - 1s 2ms/step - loss: 0.5155 - val_loss: 0.5150\n",
      "Epoch 8/20\n",
      "363/363 [==============================] - 1s 3ms/step - loss: 0.5013 - val_loss: 0.5011\n",
      "Epoch 9/20\n",
      "363/363 [==============================] - 1s 3ms/step - loss: 0.4857 - val_loss: 0.4880\n",
      "Epoch 10/20\n",
      "363/363 [==============================] - 1s 2ms/step - loss: 0.4754 - val_loss: 0.4767\n",
      "Epoch 11/20\n",
      "363/363 [==============================] - 1s 2ms/step - loss: 0.4639 - val_loss: 0.4683\n",
      "Epoch 12/20\n",
      "363/363 [==============================] - 1s 3ms/step - loss: 0.4557 - val_loss: 0.4611\n",
      "Epoch 13/20\n",
      "363/363 [==============================] - 1s 3ms/step - loss: 0.4489 - val_loss: 0.4517\n",
      "Epoch 14/20\n",
      "363/363 [==============================] - 1s 3ms/step - loss: 0.4435 - val_loss: 0.4448\n",
      "Epoch 15/20\n",
      "363/363 [==============================] - 1s 2ms/step - loss: 0.4335 - val_loss: 0.4401\n",
      "Epoch 16/20\n",
      "363/363 [==============================] - 1s 3ms/step - loss: 0.4283 - val_loss: 0.4324\n",
      "Epoch 17/20\n",
      "363/363 [==============================] - 1s 3ms/step - loss: 0.4249 - val_loss: 0.4281\n",
      "Epoch 18/20\n",
      "363/363 [==============================] - 1s 3ms/step - loss: 0.4177 - val_loss: 0.4211\n",
      "Epoch 19/20\n",
      "363/363 [==============================] - 1s 3ms/step - loss: 0.4140 - val_loss: 0.4169\n",
      "Epoch 20/20\n",
      "363/363 [==============================] - 1s 3ms/step - loss: 0.4102 - val_loss: 0.4158\n"
     ]
    }
   ],
   "source": [
    "# Compiling and training/running and evaluating final results\n",
    "# model.compile(loss=\"mean_squared_error\", optimizer =\"sgd\")\n",
    "# lr not reset on compilation, therefore we get errors\n",
    "model.compile(loss=\"mse\", optimizer=keras.optimizers.SGD(lr=1e-3))\n",
    "history =  model.fit(X_train, y_train, epochs=20,\n",
    "                    validation_data=(X_valid, y_valid))"
   ]
  },
  {
   "cell_type": "code",
   "execution_count": 11,
   "id": "5d1210b6",
   "metadata": {
    "scrolled": true
   },
   "outputs": [
    {
     "name": "stdout",
     "output_type": "stream",
     "text": [
      "  1/162 [..............................] - ETA: 0s - loss: 0.5360WARNING:tensorflow:Callbacks method `on_test_batch_end` is slow compared to the batch time (batch time: 0.0000s vs `on_test_batch_end` time: 0.0010s). Check your callbacks.\n",
      "162/162 [==============================] - 0s 805us/step - loss: 0.4148\n"
     ]
    },
    {
     "data": {
      "text/plain": [
       "array([[2.0006957],\n",
       "       [2.2428377],\n",
       "       [1.4371008]], dtype=float32)"
      ]
     },
     "execution_count": 11,
     "metadata": {},
     "output_type": "execute_result"
    }
   ],
   "source": [
    "mse_test=model.evaluate(X_test, y_test)\n",
    "X_new = X_test[:3]\n",
    "y_pred=model.predict(X_new)\n",
    "y_pred"
   ]
  },
  {
   "cell_type": "code",
   "execution_count": 13,
   "id": "c2e02786",
   "metadata": {
    "scrolled": true
   },
   "outputs": [
    {
     "data": {
      "image/png": "[encoded data removed]",
      "text/plain": [
       "<Figure size 576x360 with 1 Axes>"
      ]
     },
     "metadata": {
      "needs_background": "light"
     },
     "output_type": "display_data"
    }
   ],
   "source": [
    "import pandas as pd\n",
    "import matplotlib.pyplot as plt\n",
    "\n",
    "pd.DataFrame(history.history).plot(figsize=(8, 5))\n",
    "plt.grid(True)\n",
    "plt.gca().set_ylim(0,1)\n",
    "plt.show()"
   ]
  },
  {
   "cell_type": "code",
   "execution_count": 18,
   "id": "62da8541",
   "metadata": {},
   "outputs": [],
   "source": [
    "# Segregating features to pass through different points in space\n",
    "# Some which go through one set of layers/ others passing through another set of layers\n",
    "\n",
    "input_A = keras.layers.Input(shape=[5], name=\"wide_input\")\n",
    "input_B = keras.layers.Input(shape=[6], name=\"deep_input\")\n",
    "hidden1 = keras.layers.Dense(30, activation =\"relu\")(input_B)\n",
    "hidden2 = keras.layers.Dense(30, activation =\"relu\")(hidden1)\n",
    "concat = keras.layers.concatenate([input_A, hidden2])\n",
    "output = keras.layers.Dense(1, name=\"output\")(concat)\n",
    "model = keras.Model(inputs=[input_A, input_B], outputs=[output])"
   ]
  },
  {
   "cell_type": "code",
   "execution_count": 55,
   "id": "9a975498",
   "metadata": {},
   "outputs": [],
   "source": [
    "# Since the model is not quite the same as the previous model, 2 inputs have to be passed \n",
    "model.compile(loss=\"mse\", optimizer = keras.optimizers.SGD(lr=1e-3))\n",
    "# Sending 5 features[0-4] through wide_path, 6 features[2-7] through deep_input\n",
    "# 0-4 features[:5] features[2:7], reverse the order and select items leaving out 2 and others[2:]\n",
    "\n",
    "X_train_A, X_train_B = X_train[:, :5], X_train[:, 2:]\n",
    "X_valid_A, X_valid_B = X_valid[:, :5], X_valid[:, 2:]\n",
    "X_test_A , X_test_B = X_test[:, :5], X_test[:, 2:]\n",
    "X_new_A, X_new_B = X_test_A[:3], X_test_B[:3]"
   ]
  },
  {
   "cell_type": "code",
   "execution_count": 56,
   "id": "df8a3544",
   "metadata": {},
   "outputs": [
    {
     "name": "stdout",
     "output_type": "stream",
     "text": [
      "Epoch 1/20\n",
      "363/363 [==============================] - 1s 3ms/step - loss: 0.3673 - val_loss: 0.3776\n",
      "Epoch 2/20\n",
      "363/363 [==============================] - 1s 2ms/step - loss: 0.3662 - val_loss: 0.3763\n",
      "Epoch 3/20\n",
      "363/363 [==============================] - 1s 2ms/step - loss: 0.3656 - val_loss: 0.3766\n",
      "Epoch 4/20\n",
      "363/363 [==============================] - 1s 2ms/step - loss: 0.3652 - val_loss: 0.3757\n",
      "Epoch 5/20\n",
      "363/363 [==============================] - 1s 2ms/step - loss: 0.3644 - val_loss: 0.3751\n",
      "Epoch 6/20\n",
      "363/363 [==============================] - 1s 2ms/step - loss: 0.3637 - val_loss: 0.3745\n",
      "Epoch 7/20\n",
      "363/363 [==============================] - 0s 1ms/step - loss: 0.3629 - val_loss: 0.3734\n",
      "Epoch 8/20\n",
      "363/363 [==============================] - 1s 2ms/step - loss: 0.3624 - val_loss: 0.3733\n",
      "Epoch 9/20\n",
      "363/363 [==============================] - 1s 2ms/step - loss: 0.3615 - val_loss: 0.3720\n",
      "Epoch 10/20\n",
      "363/363 [==============================] - 1s 2ms/step - loss: 0.3608 - val_loss: 0.3736\n",
      "Epoch 11/20\n",
      "363/363 [==============================] - 1s 3ms/step - loss: 0.3604 - val_loss: 0.3714\n",
      "Epoch 12/20\n",
      "363/363 [==============================] - 1s 3ms/step - loss: 0.3595 - val_loss: 0.3716\n",
      "Epoch 13/20\n",
      "363/363 [==============================] - 1s 2ms/step - loss: 0.3591 - val_loss: 0.3696\n",
      "Epoch 14/20\n",
      "363/363 [==============================] - 1s 2ms/step - loss: 0.3582 - val_loss: 0.3697\n",
      "Epoch 15/20\n",
      "363/363 [==============================] - 1s 3ms/step - loss: 0.3577 - val_loss: 0.3687\n",
      "Epoch 16/20\n",
      "363/363 [==============================] - 1s 3ms/step - loss: 0.3572 - val_loss: 0.3683\n",
      "Epoch 17/20\n",
      "363/363 [==============================] - 1s 3ms/step - loss: 0.3567 - val_loss: 0.3683\n",
      "Epoch 18/20\n",
      "363/363 [==============================] - 1s 3ms/step - loss: 0.3563 - val_loss: 0.3677\n",
      "Epoch 19/20\n",
      "363/363 [==============================] - 1s 3ms/step - loss: 0.3556 - val_loss: 0.3674\n",
      "Epoch 20/20\n",
      "363/363 [==============================] - 1s 3ms/step - loss: 0.3551 - val_loss: 0.3663\n",
      "162/162 [==============================] - 0s 1ms/step - loss: 0.3889\n"
     ]
    }
   ],
   "source": [
    "history = model.fit((X_train_A, X_train_B), y_train, epochs =20,\n",
    "                   validation_data = ((X_valid_A, X_valid_B), y_valid))\n",
    "mse_test = model.evaluate((X_test_A, X_test_B), y_test)\n"
   ]
  },
  {
   "cell_type": "code",
   "execution_count": 63,
   "id": "2293b7ab",
   "metadata": {},
   "outputs": [
    {
     "data": {
      "text/plain": [
       "array([[2.9940586],\n",
       "       [2.4767895],\n",
       "       [2.821614 ]], dtype=float32)"
      ]
     },
     "execution_count": 63,
     "metadata": {},
     "output_type": "execute_result"
    }
   ],
   "source": [
    "y_pred=model.predict((X_new_A, X_new_B))\n",
    "y_pred\n"
   ]
  },
  {
   "cell_type": "code",
   "execution_count": 64,
   "id": "ad383c33",
   "metadata": {},
   "outputs": [
    {
     "data": {
      "text/plain": [
       "array([2.634, 2.793, 3.42 ])"
      ]
     },
     "execution_count": 64,
     "metadata": {},
     "output_type": "execute_result"
    }
   ],
   "source": [
    "y_test[:3]"
   ]
  },
  {
   "cell_type": "code",
   "execution_count": 66,
   "id": "3e9b7330",
   "metadata": {
    "scrolled": true
   },
   "outputs": [
    {
     "data": {
      "image/png": "[encoded data removed]",
      "text/plain": [
       "<Figure size 576x360 with 1 Axes>"
      ]
     },
     "metadata": {
      "needs_background": "light"
     },
     "output_type": "display_data"
    }
   ],
   "source": [
    "import pandas as pd\n",
    "import matplotlib.pyplot as plt\n",
    "\n",
    "pd.DataFrame(history.history).plot(figsize=(8, 5))\n",
    "plt.grid(True)\n",
    "plt.gca().set_ylim(0,1)\n",
    "plt.show()\n",
    "# FOr some reason the loss and validatio_losses are not changing/evolving with time"
   ]
  },
  {
   "cell_type": "markdown",
   "id": "31cebfdc",
   "metadata": {},
   "source": [
    "# Developing models with Auxillary functions"
   ]
  },
  {
   "cell_type": "code",
   "execution_count": 91,
   "id": "0b1f9adb",
   "metadata": {},
   "outputs": [],
   "source": [
    "input_A = keras.layers.Input(shape=[5], name=\"wide_input\")\n",
    "input_B = keras.layers.Input(shape=[6], name=\"deep_input\")\n",
    "hidden1 = keras.layers.Dense(30, activation =\"relu\")(input_B)\n",
    "hidden2 = keras.layers.Dense(30, activation =\"relu\")(hidden1)\n",
    "concat = keras.layers.concatenate([input_A, hidden2])\n",
    "output = keras.layers.Dense(1, name=\"output\")(concat)\n",
    "aux_output = keras.layers.Dense(1, name=\"aux_output\")(hidden2)\n",
    "model = keras.Model(inputs=[input_A, input_B], outputs = [output, aux_output])"
   ]
  },
  {
   "cell_type": "code",
   "execution_count": 92,
   "id": "a6b9312c",
   "metadata": {},
   "outputs": [],
   "source": [
    "model.compile(loss=[\"mse\", \"mse\"], loss_weights=[0.9, 0.1], optimizer=\"sgd\")\n",
    "# 2 model compiler losses have to be passed"
   ]
  },
  {
   "cell_type": "code",
   "execution_count": 71,
   "id": "8b015bb2",
   "metadata": {},
   "outputs": [
    {
     "name": "stdout",
     "output_type": "stream",
     "text": [
      "Epoch 1/20\n",
      "363/363 [==============================] - 1s 2ms/step - loss: 0.9773 - output_loss: 0.8697 - aux_output_loss: 1.9460 - val_loss: 1.0151 - val_output_loss: 0.9850 - val_aux_output_loss: 1.2855\n",
      "Epoch 2/20\n",
      "363/363 [==============================] - 1s 2ms/step - loss: 0.6492 - output_loss: 0.5925 - aux_output_loss: 1.1597 - val_loss: 0.8938 - val_output_loss: 0.8734 - val_aux_output_loss: 1.0775\n",
      "Epoch 3/20\n",
      "363/363 [==============================] - 1s 2ms/step - loss: 0.6163 - output_loss: 0.5698 - aux_output_loss: 1.0348 - val_loss: 1.0308 - val_output_loss: 0.9083 - val_aux_output_loss: 2.1337\n",
      "Epoch 4/20\n",
      "363/363 [==============================] - 1s 2ms/step - loss: 0.6079 - output_loss: 0.5435 - aux_output_loss: 1.1875 - val_loss: 0.7594 - val_output_loss: 0.7400 - val_aux_output_loss: 0.9345\n",
      "Epoch 5/20\n",
      "363/363 [==============================] - 1s 3ms/step - loss: 0.5285 - output_loss: 0.4936 - aux_output_loss: 0.8428 - val_loss: 0.4575 - val_output_loss: 0.4230 - val_aux_output_loss: 0.7678\n",
      "Epoch 6/20\n",
      "363/363 [==============================] - 1s 3ms/step - loss: 0.4327 - output_loss: 0.4007 - aux_output_loss: 0.7215 - val_loss: 0.4358 - val_output_loss: 0.4075 - val_aux_output_loss: 0.6907\n",
      "Epoch 7/20\n",
      "363/363 [==============================] - 1s 3ms/step - loss: 0.4147 - output_loss: 0.3873 - aux_output_loss: 0.6614 - val_loss: 0.4236 - val_output_loss: 0.3978 - val_aux_output_loss: 0.6551\n",
      "Epoch 8/20\n",
      "363/363 [==============================] - 1s 3ms/step - loss: 0.4043 - output_loss: 0.3788 - aux_output_loss: 0.6340 - val_loss: 0.4164 - val_output_loss: 0.3921 - val_aux_output_loss: 0.6350\n",
      "Epoch 9/20\n",
      "363/363 [==============================] - 1s 3ms/step - loss: 0.3961 - output_loss: 0.3725 - aux_output_loss: 0.6083 - val_loss: 0.4020 - val_output_loss: 0.3787 - val_aux_output_loss: 0.6119\n",
      "Epoch 10/20\n",
      "363/363 [==============================] - 1s 3ms/step - loss: 0.3862 - output_loss: 0.3632 - aux_output_loss: 0.5939 - val_loss: 0.3958 - val_output_loss: 0.3732 - val_aux_output_loss: 0.5994\n",
      "Epoch 11/20\n",
      "363/363 [==============================] - 1s 3ms/step - loss: 0.3840 - output_loss: 0.3613 - aux_output_loss: 0.5880 - val_loss: 0.3922 - val_output_loss: 0.3707 - val_aux_output_loss: 0.5860\n",
      "Epoch 12/20\n",
      "363/363 [==============================] - 1s 3ms/step - loss: 0.3764 - output_loss: 0.3550 - aux_output_loss: 0.5689 - val_loss: 0.3866 - val_output_loss: 0.3658 - val_aux_output_loss: 0.5739\n",
      "Epoch 13/20\n",
      "363/363 [==============================] - 1s 3ms/step - loss: 0.3692 - output_loss: 0.3478 - aux_output_loss: 0.5613 - val_loss: 0.3886 - val_output_loss: 0.3678 - val_aux_output_loss: 0.5754\n",
      "Epoch 14/20\n",
      "363/363 [==============================] - 1s 3ms/step - loss: 0.3657 - output_loss: 0.3445 - aux_output_loss: 0.5560 - val_loss: 0.3811 - val_output_loss: 0.3607 - val_aux_output_loss: 0.5648\n",
      "Epoch 15/20\n",
      "363/363 [==============================] - 1s 3ms/step - loss: 0.3600 - output_loss: 0.3393 - aux_output_loss: 0.5463 - val_loss: 0.3748 - val_output_loss: 0.3548 - val_aux_output_loss: 0.5551\n",
      "Epoch 16/20\n",
      "363/363 [==============================] - 1s 3ms/step - loss: 0.3562 - output_loss: 0.3362 - aux_output_loss: 0.5368 - val_loss: 0.3809 - val_output_loss: 0.3613 - val_aux_output_loss: 0.5573\n",
      "Epoch 17/20\n",
      "363/363 [==============================] - 1s 3ms/step - loss: 0.3550 - output_loss: 0.3354 - aux_output_loss: 0.5314 - val_loss: 0.3680 - val_output_loss: 0.3489 - val_aux_output_loss: 0.5392\n",
      "Epoch 18/20\n",
      "363/363 [==============================] - 1s 3ms/step - loss: 0.3546 - output_loss: 0.3354 - aux_output_loss: 0.5274 - val_loss: 0.3668 - val_output_loss: 0.3483 - val_aux_output_loss: 0.5336\n",
      "Epoch 19/20\n",
      "363/363 [==============================] - 1s 3ms/step - loss: 0.3493 - output_loss: 0.3304 - aux_output_loss: 0.5193 - val_loss: 0.3659 - val_output_loss: 0.3475 - val_aux_output_loss: 0.5316\n",
      "Epoch 20/20\n",
      "363/363 [==============================] - 1s 3ms/step - loss: 0.3472 - output_loss: 0.3288 - aux_output_loss: 0.5131 - val_loss: 0.3659 - val_output_loss: 0.3481 - val_aux_output_loss: 0.5263\n"
     ]
    }
   ],
   "source": [
    "history = model.fit(\n",
    "    [X_train_A, X_train_B],[y_train, y_train], epochs=20,\n",
    "    validation_data=([X_valid_A, X_valid_B], [y_valid, y_valid]))"
   ]
  },
  {
   "cell_type": "code",
   "execution_count": 79,
   "id": "2994ed0c",
   "metadata": {},
   "outputs": [],
   "source": [
    "model.save(\"my_keras_model.h5\")"
   ]
  },
  {
   "cell_type": "code",
   "execution_count": 72,
   "id": "115bdc5d",
   "metadata": {},
   "outputs": [
    {
     "data": {
      "image/png": "[encoded data removed]",
      "text/plain": [
       "<Figure size 576x360 with 1 Axes>"
      ]
     },
     "metadata": {
      "needs_background": "light"
     },
     "output_type": "display_data"
    }
   ],
   "source": [
    "import pandas as pd\n",
    "import matplotlib.pyplot as plt\n",
    "\n",
    "pd.DataFrame(history.history).plot(figsize=(8, 5))\n",
    "plt.grid(True)\n",
    "plt.gca().set_ylim(0,1)\n",
    "plt.show()\n",
    "# Not quite sure but the auxillary losses seem to be higher than losses in general in the output"
   ]
  },
  {
   "cell_type": "code",
   "execution_count": 73,
   "id": "69008a35",
   "metadata": {},
   "outputs": [
    {
     "name": "stdout",
     "output_type": "stream",
     "text": [
      "162/162 [==============================] - 0s 2ms/step - loss: 0.3836 - output_loss: 0.3679 - aux_output_loss: 0.5246\n"
     ]
    }
   ],
   "source": [
    "total_loss, main_loss, aux_loss = model.evaluate(\n",
    "[X_test_A, X_test_B],[y_test, y_test])\n",
    "# Compared to auxillary output losses, main losses are lower"
   ]
  },
  {
   "cell_type": "code",
   "execution_count": 76,
   "id": "100c6752",
   "metadata": {},
   "outputs": [],
   "source": [
    "y_pred_main, y_pred_aux = model.predict([X_new_A, X_new_B])"
   ]
  },
  {
   "cell_type": "code",
   "execution_count": 77,
   "id": "89a964ee",
   "metadata": {},
   "outputs": [
    {
     "data": {
      "text/plain": [
       "array([[3.0916638],\n",
       "       [2.365606 ],\n",
       "       [2.8823504]], dtype=float32)"
      ]
     },
     "execution_count": 77,
     "metadata": {},
     "output_type": "execute_result"
    }
   ],
   "source": [
    "y_pred_main"
   ]
  },
  {
   "cell_type": "code",
   "execution_count": 81,
   "id": "8936ddc3",
   "metadata": {
    "scrolled": true
   },
   "outputs": [
    {
     "data": {
      "text/plain": [
       "array([[3.1369724],\n",
       "       [2.3583958],\n",
       "       [2.8779907]], dtype=float32)"
      ]
     },
     "execution_count": 81,
     "metadata": {},
     "output_type": "execute_result"
    }
   ],
   "source": [
    "y_pred_aux"
   ]
  },
  {
   "cell_type": "markdown",
   "id": "59289f99",
   "metadata": {},
   "source": [
    "# This is for tensorflow callback"
   ]
  },
  {
   "cell_type": "code",
   "execution_count": 26,
   "id": "7f297081",
   "metadata": {},
   "outputs": [],
   "source": [
    "import tensorflow as tf\n",
    "from tensorflow import keras\n",
    "tf.__version__\n",
    "import numpy as np"
   ]
  },
  {
   "cell_type": "code",
   "execution_count": 5,
   "id": "f561cda7",
   "metadata": {},
   "outputs": [],
   "source": [
    "# Tesnorboard visualization of parameters and run\n",
    "import os \n",
    "root_logdir = os.path.join(os.curdir, \"my_logs\")\n",
    "\n",
    "def get_run_logdir():\n",
    "    import time\n",
    "    run_id = time.strftime(\"run_%Y_%m_%d-%H_%M_%S\")\n",
    "    return os.path.join(root_logdir, run_id)\n",
    "\n",
    "run_logdir = get_run_logdir()\n"
   ]
  },
  {
   "cell_type": "code",
   "execution_count": 1,
   "id": "3a81c9d9",
   "metadata": {},
   "outputs": [],
   "source": [
    "# After building and compiling model\n",
    "# tensorboard_cb = keras.callback.TensorBoard(run_logdir)\n",
    "# history = model.fit(\n",
    "#     [X_train_A, X_train_B],[y_train, y_train], epochs=20,\n",
    "#     validation_data=([X_valid_A, X_valid_B], [y_valid, y_valid]),\n",
    "#     callbacks= [tensorboard_cb])\n",
    "# Let's use the tensorflow visualisation for a simpler model"
   ]
  },
  {
   "cell_type": "code",
   "execution_count": 6,
   "id": "32badb59",
   "metadata": {},
   "outputs": [],
   "source": [
    "# Building complex models using functional API\n",
    "# For Image classificaton, the input shapes were in [28*28]\n",
    "input_ = keras.layers.Input(shape=X_train.shape[1:])\n",
    "hidden1 = keras.layers.Dense(30, activation=\"relu\")(input_)\n",
    "hidden2 = keras.layers.Dense(30, activation=\"relu\")(hidden1)\n",
    "concat = keras.layers.Concatenate()([input_, hidden2])\n",
    "output = keras.layers.Dense(1)(concat)\n",
    "\n",
    "model = keras.Model(inputs=[input_], outputs=[output])\n",
    "# Keras model which inputs and outputs to use"
   ]
  },
  {
   "cell_type": "code",
   "execution_count": 7,
   "id": "35b04247",
   "metadata": {},
   "outputs": [],
   "source": [
    "# Compiling and training/running and evaluating final results\n",
    "# model.compile(loss=\"mean_squared_error\", optimizer =\"sgd\")\n",
    "# lr not reset on compilation, therefore we get errors\n",
    "model.compile(loss=\"mse\", optimizer=keras.optimizers.SGD(lr=1e-3))\n",
    "# history =  model.fit(X_train, y_train, epochs=20,\n",
    "#                     validation_data=(X_valid, y_valid))"
   ]
  },
  {
   "cell_type": "code",
   "execution_count": 8,
   "id": "a3badba1",
   "metadata": {
    "scrolled": false
   },
   "outputs": [
    {
     "name": "stdout",
     "output_type": "stream",
     "text": [
      "Epoch 1/30\n",
      "  1/363 [..............................] - ETA: 0s - loss: 3.2480WARNING:tensorflow:From C:\\Users\\Sangram\\miniconda3\\envs\\Hands_conda\\lib\\site-packages\\tensorflow\\python\\ops\\summary_ops_v2.py:1277: stop (from tensorflow.python.eager.profiler) is deprecated and will be removed after 2020-07-01.\n",
      "Instructions for updating:\n",
      "use `tf.profiler.experimental.stop` instead.\n",
      "WARNING:tensorflow:Callbacks method `on_train_batch_end` is slow compared to the batch time (batch time: 0.0020s vs `on_train_batch_end` time: 0.0401s). Check your callbacks.\n",
      "363/363 [==============================] - 1s 4ms/step - loss: 1.8298 - val_loss: 0.7545\n",
      "Epoch 2/30\n",
      "363/363 [==============================] - 1s 2ms/step - loss: 0.7319 - val_loss: 0.6258\n",
      "Epoch 3/30\n",
      "363/363 [==============================] - 1s 3ms/step - loss: 0.6753 - val_loss: 0.5978\n",
      "Epoch 4/30\n",
      "363/363 [==============================] - 1s 3ms/step - loss: 0.6446 - val_loss: 0.5711\n",
      "Epoch 5/30\n",
      "363/363 [==============================] - 1s 3ms/step - loss: 0.6188 - val_loss: 0.5524\n",
      "Epoch 6/30\n",
      "363/363 [==============================] - 1s 3ms/step - loss: 0.5975 - val_loss: 0.5360\n",
      "Epoch 7/30\n",
      "363/363 [==============================] - 1s 3ms/step - loss: 0.5815 - val_loss: 0.5228\n",
      "Epoch 8/30\n",
      "363/363 [==============================] - 1s 3ms/step - loss: 0.5661 - val_loss: 0.5136\n",
      "Epoch 9/30\n",
      "363/363 [==============================] - 1s 3ms/step - loss: 0.5533 - val_loss: 0.5045\n",
      "Epoch 10/30\n",
      "363/363 [==============================] - 1s 3ms/step - loss: 0.5417 - val_loss: 0.4993\n",
      "Epoch 11/30\n",
      "363/363 [==============================] - 1s 2ms/step - loss: 0.5330 - val_loss: 0.4939\n",
      "Epoch 12/30\n",
      "363/363 [==============================] - 1s 3ms/step - loss: 0.5259 - val_loss: 0.4846\n",
      "Epoch 13/30\n",
      "363/363 [==============================] - 1s 3ms/step - loss: 0.5169 - val_loss: 0.4791\n",
      "Epoch 14/30\n",
      "363/363 [==============================] - 1s 3ms/step - loss: 0.5112 - val_loss: 0.4748\n",
      "Epoch 15/30\n",
      "363/363 [==============================] - 1s 3ms/step - loss: 0.5053 - val_loss: 0.4706\n",
      "Epoch 16/30\n",
      "363/363 [==============================] - 1s 3ms/step - loss: 0.4989 - val_loss: 0.4677\n",
      "Epoch 17/30\n",
      "363/363 [==============================] - 1s 2ms/step - loss: 0.4940 - val_loss: 0.4641\n",
      "Epoch 18/30\n",
      "363/363 [==============================] - 1s 2ms/step - loss: 0.4899 - val_loss: 0.4616\n",
      "Epoch 19/30\n",
      "363/363 [==============================] - 1s 3ms/step - loss: 0.4857 - val_loss: 0.4596\n",
      "Epoch 20/30\n",
      "363/363 [==============================] - 1s 3ms/step - loss: 0.4816 - val_loss: 0.4557\n",
      "Epoch 21/30\n",
      "363/363 [==============================] - 1s 3ms/step - loss: 0.4786 - val_loss: 0.4534\n",
      "Epoch 22/30\n",
      "363/363 [==============================] - 1s 3ms/step - loss: 0.4743 - val_loss: 0.4514\n",
      "Epoch 23/30\n",
      "363/363 [==============================] - 1s 3ms/step - loss: 0.4713 - val_loss: 0.4487\n",
      "Epoch 24/30\n",
      "363/363 [==============================] - 1s 3ms/step - loss: 0.4679 - val_loss: 0.4461\n",
      "Epoch 25/30\n",
      "363/363 [==============================] - 1s 3ms/step - loss: 0.4647 - val_loss: 0.4448\n",
      "Epoch 26/30\n",
      "363/363 [==============================] - 1s 3ms/step - loss: 0.4617 - val_loss: 0.4422\n",
      "Epoch 27/30\n",
      "363/363 [==============================] - 1s 3ms/step - loss: 0.4583 - val_loss: 0.4415\n",
      "Epoch 28/30\n",
      "363/363 [==============================] - 1s 3ms/step - loss: 0.4562 - val_loss: 0.4403\n",
      "Epoch 29/30\n",
      "363/363 [==============================] - 1s 3ms/step - loss: 0.4538 - val_loss: 0.4375\n",
      "Epoch 30/30\n",
      "363/363 [==============================] - 1s 3ms/step - loss: 0.4512 - val_loss: 0.4343\n"
     ]
    }
   ],
   "source": [
    "tensorboard_cb = keras.callbacks.TensorBoard(run_logdir)\n",
    "history = model.fit(X_train, y_train, epochs=30,\n",
    "                    validation_data=(X_valid, y_valid),\n",
    "                    callbacks=[tensorboard_cb])"
   ]
  },
  {
   "cell_type": "code",
   "execution_count": 17,
   "id": "5950ec80",
   "metadata": {
    "scrolled": false
   },
   "outputs": [
    {
     "data": {
      "text/plain": [
       "Reusing TensorBoard on port 6006 (pid 24928), started 0:08:50 ago. (Use '!kill 24928' to kill it.)"
      ]
     },
     "metadata": {},
     "output_type": "display_data"
    },
    {
     "data": {
      "text/html": [
       "\n",
       "      <iframe id=\"tensorboard-frame-a856b9c8697d23b9\" width=\"100%\" height=\"800\" frameborder=\"0\">\n",
       "      </iframe>\n",
       "      <script>\n",
       "        (function() {\n",
       "          const frame = document.getElementById(\"tensorboard-frame-a856b9c8697d23b9\");\n",
       "          const url = new URL(\"/\", window.location);\n",
       "          const port = 6006;\n",
       "          if (port) {\n",
       "            url.port = port;\n",
       "          }\n",
       "          frame.src = url;\n",
       "        })();\n",
       "      </script>\n",
       "    "
      ],
      "text/plain": [
       "<IPython.core.display.HTML object>"
      ]
     },
     "metadata": {},
     "output_type": "display_data"
    }
   ],
   "source": [
    "%load_ext tensorboard\n",
    "%tensorboard --logdir=./my_logs --port=6006\n"
   ]
  },
  {
   "cell_type": "code",
   "execution_count": 16,
   "id": "9aa3e95e",
   "metadata": {},
   "outputs": [],
   "source": [
    "test_logdir = get_run_logdir()\n",
    "writer = tf.summary.create_file_writer(test_logdir)\n",
    "with writer.as_default():\n",
    "    for step in range(1, 1000 + 1):\n",
    "        tf.summary.scalar(\"my_scalar\", np.sin(step / 10), step=step)\n",
    "        data = (np.random.randn(100) + 2) * step / 100 # some random data\n",
    "        tf.summary.histogram(\"my_hist\", data, buckets=50, step=step)\n",
    "        images = np.random.rand(2, 32, 32, 3) # random 32×32 RGB images\n",
    "        tf.summary.image(\"my_images\", images * step / 1000, step=step)\n",
    "        texts = [\"The step is \" + str(step), \"Its square is \" + str(step**2)]\n",
    "        tf.summary.text(\"my_text\", texts, step=step)\n",
    "        sine_wave = tf.math.sin(tf.range(12000) / 48000 * 2 * np.pi * step)\n",
    "        audio = tf.reshape(tf.cast(sine_wave, tf.float32), [1, -1, 1])\n",
    "        tf.summary.audio(\"my_audio\", audio, sample_rate=48000, step=step)"
   ]
  },
  {
   "cell_type": "code",
   "execution_count": null,
   "id": "f43f9393",
   "metadata": {},
   "outputs": [],
   "source": [
    "# Rerun the tensorboard code with reload to run the updated tensorboard flow\n",
    "%reload_ext tensorboard\n",
    "%tensorboard --logdir=./my_logs --port=6006\n"
   ]
  },
  {
   "cell_type": "markdown",
   "id": "9dacd222",
   "metadata": {},
   "source": [
    "# Hyperparameter tuning keras"
   ]
  },
  {
   "cell_type": "code",
   "execution_count": 33,
   "id": "73305e56",
   "metadata": {},
   "outputs": [],
   "source": [
    "# Building a keras model with all the hyperparameters defined\n",
    "def build_model(n_hidden=1, n_neurons=30, learning_rate=3e-3, input_shape=\n",
    "               [8]):\n",
    "    model = keras.models.Sequential()\n",
    "    model.add(keras.layers.InputLayer(input_shape=input_shape))\n",
    "#     Alternatively, used in the previous model, model.add(keras.layers.Flatten(input_shape=[]))\n",
    "    for layer in range(n_hidden):\n",
    "        model.add(keras.layers.Dense(n_neurons, activation=\"relu\"))\n",
    "        model.add(keras.layers.Dense(1))    \n",
    "        optimizer = keras.optimizers.SGD(lr=learning_rate)\n",
    "        model.compile(loss=\"mse\", optimizer=optimizer)\n",
    "        return model\n",
    "# Typical: model.add(keras.layers.Dense(100, activation=\"relu\"))\n",
    "# Note: We are compiling the model after addition of every loop/perhaps this is useful for iterative process"
   ]
  },
  {
   "cell_type": "code",
   "execution_count": null,
   "id": "109c47ae",
   "metadata": {},
   "outputs": [],
   "source": [
    "# Typical MLP with hidden layers\n",
    "# model = keras.models.Sequential()\n",
    "# model.add(keras.layers.Flatten(input_shape=[28, 28]))\n",
    "# model.add(keras.layers.Dense(300, activation=\"relu\"))\n",
    "# model.add(keras.layers.Dense(100, activation=\"relu\"))\n",
    "# model.add(keras.layers.Dense(10, activation=\"softmax\"))\n",
    "# We see the addition of the keras.layers.Dense is added with the for loop"
   ]
  },
  {
   "cell_type": "code",
   "execution_count": 34,
   "id": "783f2721",
   "metadata": {},
   "outputs": [],
   "source": [
    "keras_reg = keras.wrappers.scikit_learn.KerasRegressor(build_model)"
   ]
  },
  {
   "cell_type": "code",
   "execution_count": 35,
   "id": "5ffe8343",
   "metadata": {},
   "outputs": [
    {
     "name": "stdout",
     "output_type": "stream",
     "text": [
      "Epoch 1/100\n",
      "363/363 [==============================] - 1s 3ms/step - loss: 1.3119 - val_loss: 0.6731\n",
      "Epoch 2/100\n",
      "363/363 [==============================] - 1s 2ms/step - loss: 0.6945 - val_loss: 0.5800\n",
      "Epoch 3/100\n",
      "363/363 [==============================] - 1s 3ms/step - loss: 0.6065 - val_loss: 0.5189\n",
      "Epoch 4/100\n",
      "363/363 [==============================] - 1s 3ms/step - loss: 0.5651 - val_loss: 0.4885\n",
      "Epoch 5/100\n",
      "363/363 [==============================] - 1s 3ms/step - loss: 0.5423 - val_loss: 0.4756\n",
      "Epoch 6/100\n",
      "363/363 [==============================] - 1s 3ms/step - loss: 0.5244 - val_loss: 0.4647\n",
      "Epoch 7/100\n",
      "363/363 [==============================] - 1s 3ms/step - loss: 0.4949 - val_loss: 0.4564\n",
      "Epoch 8/100\n",
      "363/363 [==============================] - 1s 3ms/step - loss: 0.4995 - val_loss: 0.4517\n",
      "Epoch 9/100\n",
      "363/363 [==============================] - 1s 3ms/step - loss: 0.4882 - val_loss: 0.4498\n",
      "Epoch 10/100\n",
      "363/363 [==============================] - 1s 3ms/step - loss: 0.4831 - val_loss: 0.4476\n",
      "Epoch 11/100\n",
      "363/363 [==============================] - 1s 3ms/step - loss: 0.4826 - val_loss: 0.4415\n",
      "Epoch 12/100\n",
      "363/363 [==============================] - 1s 2ms/step - loss: 0.4795 - val_loss: 0.4415\n",
      "Epoch 13/100\n",
      "363/363 [==============================] - 1s 3ms/step - loss: 0.4959 - val_loss: 0.4377\n",
      "Epoch 14/100\n",
      "363/363 [==============================] - 1s 2ms/step - loss: 0.4763 - val_loss: 0.4411\n",
      "Epoch 15/100\n",
      "363/363 [==============================] - 1s 3ms/step - loss: 0.4616 - val_loss: 0.4306\n",
      "Epoch 16/100\n",
      "363/363 [==============================] - 1s 3ms/step - loss: 0.4825 - val_loss: 0.4333\n",
      "Epoch 17/100\n",
      "363/363 [==============================] - 1s 3ms/step - loss: 0.4576 - val_loss: 0.4343\n",
      "Epoch 18/100\n",
      "363/363 [==============================] - 1s 2ms/step - loss: 0.4539 - val_loss: 0.4243\n",
      "Epoch 19/100\n",
      "363/363 [==============================] - 1s 2ms/step - loss: 0.4533 - val_loss: 0.4296\n",
      "Epoch 20/100\n",
      "363/363 [==============================] - 1s 3ms/step - loss: 0.4480 - val_loss: 0.4180\n",
      "Epoch 21/100\n",
      "363/363 [==============================] - 1s 3ms/step - loss: 0.4443 - val_loss: 0.4152\n",
      "Epoch 22/100\n",
      "363/363 [==============================] - 1s 3ms/step - loss: 0.4362 - val_loss: 0.4129\n",
      "Epoch 23/100\n",
      "363/363 [==============================] - 1s 3ms/step - loss: 0.4337 - val_loss: 0.4117\n",
      "Epoch 24/100\n",
      "363/363 [==============================] - 1s 3ms/step - loss: 0.4301 - val_loss: 0.4101\n",
      "Epoch 25/100\n",
      "363/363 [==============================] - 1s 3ms/step - loss: 0.4296 - val_loss: 0.4104\n",
      "Epoch 26/100\n",
      "363/363 [==============================] - 1s 3ms/step - loss: 0.4280 - val_loss: 0.4058\n",
      "Epoch 27/100\n",
      "363/363 [==============================] - 1s 3ms/step - loss: 0.4241 - val_loss: 0.4045\n",
      "Epoch 28/100\n",
      "363/363 [==============================] - 1s 3ms/step - loss: 0.4198 - val_loss: 0.4021\n",
      "Epoch 29/100\n",
      "363/363 [==============================] - 1s 3ms/step - loss: 0.4222 - val_loss: 0.4005\n",
      "Epoch 30/100\n",
      "363/363 [==============================] - 1s 3ms/step - loss: 0.4159 - val_loss: 0.3994\n",
      "Epoch 31/100\n",
      "363/363 [==============================] - 1s 3ms/step - loss: 0.4177 - val_loss: 0.4064\n",
      "Epoch 32/100\n",
      "363/363 [==============================] - 1s 3ms/step - loss: 0.4172 - val_loss: 0.3952\n",
      "Epoch 33/100\n",
      "363/363 [==============================] - 1s 3ms/step - loss: 0.4166 - val_loss: 0.3934\n",
      "Epoch 34/100\n",
      "363/363 [==============================] - 1s 3ms/step - loss: 0.4096 - val_loss: 0.3919\n",
      "Epoch 35/100\n",
      "363/363 [==============================] - 1s 2ms/step - loss: 0.4067 - val_loss: 0.3897\n",
      "Epoch 36/100\n",
      "363/363 [==============================] - 1s 3ms/step - loss: 0.4053 - val_loss: 0.3903\n",
      "Epoch 37/100\n",
      "363/363 [==============================] - 1s 3ms/step - loss: 0.4061 - val_loss: 0.3875\n",
      "Epoch 38/100\n",
      "363/363 [==============================] - 1s 3ms/step - loss: 0.4021 - val_loss: 0.3853\n",
      "Epoch 39/100\n",
      "363/363 [==============================] - 1s 3ms/step - loss: 0.4000 - val_loss: 0.3862\n",
      "Epoch 40/100\n",
      "363/363 [==============================] - 1s 3ms/step - loss: 0.3985 - val_loss: 0.3866\n",
      "Epoch 41/100\n",
      "363/363 [==============================] - 1s 1ms/step - loss: 0.3961 - val_loss: 0.3802\n",
      "Epoch 42/100\n",
      "363/363 [==============================] - 1s 3ms/step - loss: 0.3953 - val_loss: 0.3792\n",
      "Epoch 43/100\n",
      "363/363 [==============================] - 1s 3ms/step - loss: 0.3938 - val_loss: 0.3778\n",
      "Epoch 44/100\n",
      "363/363 [==============================] - 1s 3ms/step - loss: 0.3913 - val_loss: 0.3777\n",
      "Epoch 45/100\n",
      "363/363 [==============================] - 1s 3ms/step - loss: 0.3897 - val_loss: 0.3760\n",
      "Epoch 46/100\n",
      "363/363 [==============================] - 1s 3ms/step - loss: 0.3893 - val_loss: 0.3737\n",
      "Epoch 47/100\n",
      "363/363 [==============================] - 1s 3ms/step - loss: 0.3871 - val_loss: 0.3728\n",
      "Epoch 48/100\n",
      "363/363 [==============================] - 1s 3ms/step - loss: 0.3900 - val_loss: 0.3717\n",
      "Epoch 49/100\n",
      "363/363 [==============================] - 1s 3ms/step - loss: 0.4002 - val_loss: 0.3685\n",
      "Epoch 50/100\n",
      "363/363 [==============================] - 1s 3ms/step - loss: 0.3953 - val_loss: 0.3683\n",
      "Epoch 51/100\n",
      "363/363 [==============================] - 1s 3ms/step - loss: 0.4043 - val_loss: 0.3697\n",
      "Epoch 52/100\n",
      "363/363 [==============================] - 1s 3ms/step - loss: 0.3906 - val_loss: 0.3679\n",
      "Epoch 53/100\n",
      "363/363 [==============================] - 1s 3ms/step - loss: 0.3926 - val_loss: 0.3711\n",
      "Epoch 54/100\n",
      "363/363 [==============================] - 1s 3ms/step - loss: 0.3856 - val_loss: 0.3652\n",
      "Epoch 55/100\n",
      "363/363 [==============================] - 1s 3ms/step - loss: 0.3840 - val_loss: 0.3628\n",
      "Epoch 56/100\n",
      "363/363 [==============================] - 1s 3ms/step - loss: 0.3808 - val_loss: 0.3623\n",
      "Epoch 57/100\n",
      "363/363 [==============================] - 1s 3ms/step - loss: 0.3860 - val_loss: 0.3706\n",
      "Epoch 58/100\n",
      "363/363 [==============================] - 1s 2ms/step - loss: 0.3759 - val_loss: 0.3603\n",
      "Epoch 59/100\n",
      "363/363 [==============================] - 1s 3ms/step - loss: 0.3761 - val_loss: 0.3600\n",
      "Epoch 60/100\n",
      "363/363 [==============================] - 1s 3ms/step - loss: 0.3746 - val_loss: 0.3605\n",
      "Epoch 61/100\n",
      "363/363 [==============================] - 1s 3ms/step - loss: 0.3745 - val_loss: 0.3565\n",
      "Epoch 62/100\n",
      "363/363 [==============================] - 1s 3ms/step - loss: 0.3733 - val_loss: 0.3561\n",
      "Epoch 63/100\n",
      "363/363 [==============================] - 1s 3ms/step - loss: 0.3740 - val_loss: 0.3553\n",
      "Epoch 64/100\n",
      "363/363 [==============================] - 1s 3ms/step - loss: 0.3701 - val_loss: 0.3554\n",
      "Epoch 65/100\n",
      "363/363 [==============================] - 1s 3ms/step - loss: 0.3698 - val_loss: 0.3558\n",
      "Epoch 66/100\n",
      "363/363 [==============================] - 1s 3ms/step - loss: 0.3668 - val_loss: 0.3534\n",
      "Epoch 67/100\n",
      "363/363 [==============================] - 1s 3ms/step - loss: 0.3663 - val_loss: 0.3517\n",
      "Epoch 68/100\n",
      "363/363 [==============================] - 1s 2ms/step - loss: 0.3691 - val_loss: 0.3531\n",
      "Epoch 69/100\n",
      "363/363 [==============================] - 1s 3ms/step - loss: 0.3647 - val_loss: 0.3504\n",
      "Epoch 70/100\n",
      "363/363 [==============================] - 1s 3ms/step - loss: 0.3636 - val_loss: 0.3495\n",
      "Epoch 71/100\n",
      "363/363 [==============================] - 1s 3ms/step - loss: 0.3635 - val_loss: 0.3485\n",
      "Epoch 72/100\n",
      "363/363 [==============================] - 1s 3ms/step - loss: 0.3662 - val_loss: 0.3538\n",
      "Epoch 73/100\n",
      "363/363 [==============================] - 1s 3ms/step - loss: 0.3702 - val_loss: 0.3486\n",
      "Epoch 74/100\n",
      "363/363 [==============================] - 1s 3ms/step - loss: 0.3624 - val_loss: 0.3469\n",
      "Epoch 75/100\n",
      "363/363 [==============================] - 1s 3ms/step - loss: 0.3672 - val_loss: 0.3487\n",
      "Epoch 76/100\n",
      "363/363 [==============================] - 1s 3ms/step - loss: 0.3594 - val_loss: 0.3484\n",
      "Epoch 77/100\n",
      "363/363 [==============================] - 1s 3ms/step - loss: 0.3614 - val_loss: 0.3472\n",
      "Epoch 78/100\n",
      "363/363 [==============================] - 1s 3ms/step - loss: 0.3576 - val_loss: 0.3450\n",
      "Epoch 79/100\n",
      "363/363 [==============================] - 1s 3ms/step - loss: 0.3596 - val_loss: 0.3447\n",
      "Epoch 80/100\n",
      "363/363 [==============================] - 1s 3ms/step - loss: 0.3592 - val_loss: 0.3439\n",
      "Epoch 81/100\n"
     ]
    },
    {
     "name": "stdout",
     "output_type": "stream",
     "text": [
      "363/363 [==============================] - 1s 2ms/step - loss: 0.3582 - val_loss: 0.3446\n",
      "Epoch 82/100\n",
      "363/363 [==============================] - 1s 3ms/step - loss: 0.3582 - val_loss: 0.3442\n",
      "Epoch 83/100\n",
      "363/363 [==============================] - 1s 3ms/step - loss: 0.3646 - val_loss: 0.3438\n",
      "Epoch 84/100\n",
      "363/363 [==============================] - 1s 3ms/step - loss: 0.3581 - val_loss: 0.3417\n",
      "Epoch 85/100\n",
      "363/363 [==============================] - 1s 3ms/step - loss: 0.3620 - val_loss: 0.3405\n",
      "Epoch 86/100\n",
      "363/363 [==============================] - 1s 3ms/step - loss: 0.3528 - val_loss: 0.3399\n",
      "Epoch 87/100\n",
      "363/363 [==============================] - 1s 2ms/step - loss: 0.3552 - val_loss: 0.3476\n",
      "Epoch 88/100\n",
      "363/363 [==============================] - 1s 2ms/step - loss: 0.3559 - val_loss: 0.3395\n",
      "Epoch 89/100\n",
      "363/363 [==============================] - 1s 2ms/step - loss: 0.3519 - val_loss: 0.3409\n",
      "Epoch 90/100\n",
      "363/363 [==============================] - 1s 2ms/step - loss: 0.3524 - val_loss: 0.3403\n",
      "Epoch 91/100\n",
      "363/363 [==============================] - 1s 2ms/step - loss: 0.3505 - val_loss: 0.3410\n",
      "Epoch 92/100\n",
      "363/363 [==============================] - 1s 2ms/step - loss: 0.3495 - val_loss: 0.3386\n",
      "Epoch 93/100\n",
      "363/363 [==============================] - 1s 2ms/step - loss: 0.3506 - val_loss: 0.3376\n",
      "Epoch 94/100\n",
      "363/363 [==============================] - 1s 3ms/step - loss: 0.3487 - val_loss: 0.3384\n",
      "Epoch 95/100\n",
      "363/363 [==============================] - 1s 3ms/step - loss: 0.3486 - val_loss: 0.3364\n",
      "Epoch 96/100\n",
      "363/363 [==============================] - 1s 2ms/step - loss: 0.3473 - val_loss: 0.3369\n",
      "Epoch 97/100\n",
      "363/363 [==============================] - 1s 2ms/step - loss: 0.3472 - val_loss: 0.3358\n",
      "Epoch 98/100\n",
      "363/363 [==============================] - 1s 2ms/step - loss: 0.3574 - val_loss: 0.3365\n",
      "Epoch 99/100\n",
      "363/363 [==============================] - 1s 2ms/step - loss: 0.3492 - val_loss: 0.3356\n",
      "Epoch 100/100\n",
      "363/363 [==============================] - 1s 3ms/step - loss: 0.3515 - val_loss: 0.3341\n",
      "162/162 [==============================] - 0s 1ms/step - loss: 0.3338\n"
     ]
    },
    {
     "ename": "NameError",
     "evalue": "name 'X_new' is not defined",
     "output_type": "error",
     "traceback": [
      "\u001b[1;31m---------------------------------------------------------------------------\u001b[0m",
      "\u001b[1;31mNameError\u001b[0m                                 Traceback (most recent call last)",
      "\u001b[1;32m<ipython-input-35-dec3611f622c>\u001b[0m in \u001b[0;36m<module>\u001b[1;34m\u001b[0m\n\u001b[0;32m      3\u001b[0m               callbacks = [keras.callbacks.EarlyStopping(patience=10)])\n\u001b[0;32m      4\u001b[0m \u001b[0mmse_test\u001b[0m \u001b[1;33m=\u001b[0m \u001b[0mkeras_reg\u001b[0m\u001b[1;33m.\u001b[0m\u001b[0mscore\u001b[0m\u001b[1;33m(\u001b[0m\u001b[0mX_test\u001b[0m\u001b[1;33m,\u001b[0m \u001b[0my_test\u001b[0m\u001b[1;33m)\u001b[0m\u001b[1;33m\u001b[0m\u001b[1;33m\u001b[0m\u001b[0m\n\u001b[1;32m----> 5\u001b[1;33m \u001b[0my_pred\u001b[0m \u001b[1;33m=\u001b[0m \u001b[0mkeras_reg\u001b[0m\u001b[1;33m.\u001b[0m\u001b[0mpredict\u001b[0m\u001b[1;33m(\u001b[0m\u001b[0mX_new\u001b[0m\u001b[1;33m)\u001b[0m\u001b[1;33m\u001b[0m\u001b[1;33m\u001b[0m\u001b[0m\n\u001b[0m\u001b[0;32m      6\u001b[0m \u001b[1;33m\u001b[0m\u001b[0m\n",
      "\u001b[1;31mNameError\u001b[0m: name 'X_new' is not defined"
     ]
    }
   ],
   "source": [
    "keras_reg.fit(X_train, y_train, epochs=100,\n",
    "              validation_data = (X_valid, y_valid),\n",
    "              callbacks = [keras.callbacks.EarlyStopping(patience=10)])"
   ]
  },
  {
   "cell_type": "code",
   "execution_count": 37,
   "id": "3cd04b49",
   "metadata": {},
   "outputs": [
    {
     "name": "stdout",
     "output_type": "stream",
     "text": [
      "162/162 [==============================] - 0s 2ms/step - loss: 0.3338\n"
     ]
    }
   ],
   "source": [
    "X_new = X_test[:3]\n",
    "# y_pred=model.predict(X_new)\n",
    "# y_pred\n",
    "mse_test = keras_reg.score(X_test, y_test)\n",
    "y_pred = keras_reg.predict(X_new)"
   ]
  },
  {
   "cell_type": "code",
   "execution_count": 38,
   "id": "9d19aa0e",
   "metadata": {},
   "outputs": [
    {
     "data": {
      "text/plain": [
       "array([2.4649298, 2.855674 , 2.0164957], dtype=float32)"
      ]
     },
     "execution_count": 38,
     "metadata": {},
     "output_type": "execute_result"
    }
   ],
   "source": [
    "y_pred"
   ]
  }
 ],
 "metadata": {
  "kernelspec": {
   "display_name": "Hands_conda",
   "language": "python",
   "name": "hands_conda"
  },
  "language_info": {
   "codemirror_mode": {
    "name": "ipython",
    "version": 3
   },
   "file_extension": ".py",
   "mimetype": "text/x-python",
   "name": "python",
   "nbconvert_exporter": "python",
   "pygments_lexer": "ipython3",
   "version": "3.8.8"
  }
 },
 "nbformat": 4,
 "nbformat_minor": 5
}
