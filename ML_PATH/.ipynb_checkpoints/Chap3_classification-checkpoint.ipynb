{
 "cells": [
  {
   "cell_type": "code",
   "execution_count": 3,
   "id": "0babbe6f",
   "metadata": {},
   "outputs": [],
   "source": [
    "# Classification Problems: chapter 3\n",
    "import os\n",
    "import tarfile\n",
    "import urllib.request\n",
    "from IPython.core.interactiveshell import InteractiveShell\n",
    "InteractiveShell.ast_node_interactivity = \"all\"\n",
    "import pandas as pd\n",
    "import matplotlib.pyplot as plt\n",
    "import numpy as np\n",
    "def split_train_test(data, test_ratio):\n",
    "    shuffled_indices = np.random.permutation(len(data))\n",
    "    test_set_size = int(len(data) * test_ratio)\n",
    "    test_indices = shuffled_indices[:test_set_size]\n",
    "    train_indices = shuffled_indices[test_set_size:]\n",
    "    return data.iloc[train_indices], data.iloc[test_indices]\n",
    "def split_train_test_by_id(data, test_ratio, id_column):\n",
    "    ids = data[id_column]\n",
    "    in_test_set = ids.apply(lambda id_: test_set_check(id_, test_ratio))\n",
    "    return data.loc[~in_test_set], data.loc[in_test_set]\n",
    "from sklearn.model_selection import train_test_split\n",
    "from sklearn.model_selection import StratifiedShuffleSplit\n",
    "from sklearn.impute import SimpleImputer\n",
    "imputer = SimpleImputer(strategy=\"median\")\n",
    "from sklearn.preprocessing import OrdinalEncoder\n",
    "ordinal_encoder=OrdinalEncoder()\n",
    "from sklearn.preprocessing import OneHotEncoder\n",
    "cat_encoder=OneHotEncoder()\n",
    "from sklearn.base import BaseEstimator, TransformerMixin\n",
    "from sklearn.pipeline import Pipeline\n",
    "from sklearn.preprocessing import StandardScaler\n",
    "from sklearn.compose import ColumnTransformer\n",
    "from sklearn.metrics import mean_squared_error"
   ]
  },
  {
   "cell_type": "code",
   "execution_count": 4,
   "id": "d1650d33",
   "metadata": {},
   "outputs": [],
   "source": [
    "def log_progress(sequence, every=None, size=None, name='Items'):\n",
    "    from ipywidgets import IntProgress, HTML, VBox\n",
    "    from IPython.display import display\n",
    "\n",
    "    is_iterator = False\n",
    "    if size is None:\n",
    "        try:\n",
    "            size = len(sequence)\n",
    "        except TypeError:\n",
    "            is_iterator = True\n",
    "    if size is not None:\n",
    "        if every is None:\n",
    "            if size <= 200:\n",
    "                every = 1\n",
    "            else:\n",
    "                every = int(size / 200)     # every 0.5%\n",
    "    else:\n",
    "        assert every is not None, 'sequence is iterator, set every'\n",
    "\n",
    "    if is_iterator:\n",
    "        progress = IntProgress(min=0, max=1, value=1)\n",
    "        progress.bar_style = 'info'\n",
    "    else:\n",
    "        progress = IntProgress(min=0, max=size, value=0)\n",
    "    label = HTML()\n",
    "    box = VBox(children=[label, progress])\n",
    "    display(box)\n",
    "\n",
    "    index = 0\n",
    "    try:\n",
    "        for index, record in enumerate(sequence, 1):\n",
    "            if index == 1 or index % every == 0:\n",
    "                if is_iterator:\n",
    "                    label.value = '{name}: {index} / ?'.format(\n",
    "                        name=name,\n",
    "                        index=index\n",
    "                    )\n",
    "                else:\n",
    "                    progress.value = index\n",
    "                    label.value = u'{name}: {index} / {size}'.format(\n",
    "                        name=name,\n",
    "                        index=index,\n",
    "                        size=size\n",
    "                    )\n",
    "            yield record\n",
    "    except:\n",
    "        progress.bar_style = 'danger'\n",
    "        raise\n",
    "    else:\n",
    "        progress.bar_style = 'success'\n",
    "        progress.value = index\n",
    "        label.value = \"{name}: {index}\".format(\n",
    "            name=name,\n",
    "            index=str(index or '?')\n",
    "        )"
   ]
  },
  {
   "cell_type": "code",
   "execution_count": 5,
   "id": "0e94e46b",
   "metadata": {},
   "outputs": [
    {
     "data": {
      "text/plain": [
       "dict_keys(['data', 'target', 'frame', 'categories', 'feature_names', 'target_names', 'DESCR', 'details', 'url'])"
      ]
     },
     "execution_count": 5,
     "metadata": {},
     "output_type": "execute_result"
    }
   ],
   "source": [
    "from sklearn.datasets import fetch_openml\n",
    "mnist = fetch_openml('mnist_784', version =1)\n",
    "mnist.keys()"
   ]
  },
  {
   "cell_type": "code",
   "execution_count": 6,
   "id": "a2a62903",
   "metadata": {},
   "outputs": [
    {
     "data": {
      "text/plain": [
       "sklearn.utils.Bunch"
      ]
     },
     "execution_count": 6,
     "metadata": {},
     "output_type": "execute_result"
    }
   ],
   "source": [
    "type(mnist)\n"
   ]
  },
  {
   "cell_type": "code",
   "execution_count": 7,
   "id": "30833a13",
   "metadata": {},
   "outputs": [],
   "source": [
    "X, y= mnist[\"data\"], mnist[\"target\"]"
   ]
  },
  {
   "cell_type": "code",
   "execution_count": 8,
   "id": "dd2cb390",
   "metadata": {},
   "outputs": [
    {
     "data": {
      "text/plain": [
       "(70000, 784)"
      ]
     },
     "execution_count": 8,
     "metadata": {},
     "output_type": "execute_result"
    }
   ],
   "source": [
    "X.shape\n",
    "# each pixel contains 28x28 pixels which is 784 data array, in total there are 70,000 images"
   ]
  },
  {
   "cell_type": "code",
   "execution_count": 9,
   "id": "5f7c478a",
   "metadata": {},
   "outputs": [
    {
     "data": {
      "text/plain": [
       "(70000,)"
      ]
     },
     "execution_count": 9,
     "metadata": {},
     "output_type": "execute_result"
    },
    {
     "data": {
      "text/plain": [
       "'0'"
      ]
     },
     "execution_count": 9,
     "metadata": {},
     "output_type": "execute_result"
    }
   ],
   "source": [
    "y.shape\n",
    "y[1]"
   ]
  },
  {
   "cell_type": "code",
   "execution_count": 10,
   "id": "cc18f226",
   "metadata": {},
   "outputs": [
    {
     "data": {
      "text/plain": [
       "<matplotlib.image.AxesImage at 0x22896444580>"
      ]
     },
     "execution_count": 10,
     "metadata": {},
     "output_type": "execute_result"
    },
    {
     "data": {
      "text/plain": [
       "(-0.5, 27.5, 27.5, -0.5)"
      ]
     },
     "execution_count": 10,
     "metadata": {},
     "output_type": "execute_result"
    },
    {
     "data": {
      "image/png": "[encoded data removed]",
      "text/plain": [
       "<Figure size 432x288 with 1 Axes>"
      ]
     },
     "metadata": {
      "needs_background": "light"
     },
     "output_type": "display_data"
    }
   ],
   "source": [
    "%matplotlib inline\n",
    "import matplotlib as mpl\n",
    "import matplotlib.pyplot as plt\n",
    "\n",
    "some_digit = X[:1]\n",
    "some_digit=some_digit.to_numpy()\n",
    "some_digit_image = some_digit.reshape(28, 28)\n",
    "plt.imshow(some_digit_image, cmap=mpl.cm.binary)\n",
    "plt.axis(\"off\")\n",
    "# save_fig(\"some_digit_plot\")\n",
    "plt.show()"
   ]
  },
  {
   "cell_type": "code",
   "execution_count": 59,
   "id": "11ac0eef",
   "metadata": {},
   "outputs": [],
   "source": [
    "from tqdm.notebook import trange, tqdm\n",
    "from time import sleep"
   ]
  },
  {
   "cell_type": "code",
   "execution_count": 11,
   "id": "a578186e",
   "metadata": {},
   "outputs": [],
   "source": [
    "# X"
   ]
  },
  {
   "cell_type": "code",
   "execution_count": 12,
   "id": "840c2e5a",
   "metadata": {
    "scrolled": true
   },
   "outputs": [
    {
     "data": {
      "text/plain": [
       "pandas.core.frame.DataFrame"
      ]
     },
     "execution_count": 12,
     "metadata": {},
     "output_type": "execute_result"
    },
    {
     "data": {
      "text/plain": [
       "<matplotlib.image.AxesImage at 0x228963dc070>"
      ]
     },
     "execution_count": 12,
     "metadata": {},
     "output_type": "execute_result"
    },
    {
     "data": {
      "text/plain": [
       "(-0.5, 27.5, 27.5, -0.5)"
      ]
     },
     "execution_count": 12,
     "metadata": {},
     "output_type": "execute_result"
    },
    {
     "data": {
      "image/png": "[encoded data removed]",
      "text/plain": [
       "<Figure size 432x288 with 1 Axes>"
      ]
     },
     "metadata": {
      "needs_background": "light"
     },
     "output_type": "display_data"
    }
   ],
   "source": [
    "import matplotlib as mpl\n",
    "import matplotlib.pyplot as plt\n",
    "some_digit = X[:1]\n",
    "# some_digit_image =some_digit.reshape(28,28)\n",
    "type(some_digit)\n",
    "some_digit_numpy=some_digit.to_numpy()\n",
    "some_digit_image =some_digit_numpy.reshape(28,28)\n",
    "plt.imshow(some_digit_image, cmap=\"binary\")\n",
    "plt.axis(\"off\")\n",
    "plt.show()\n",
    "# Numpy array is needed for the image plot whereas for the prediction the panda data frame works\n",
    "# not numpy array"
   ]
  },
  {
   "cell_type": "code",
   "execution_count": 13,
   "id": "9ad7951c",
   "metadata": {},
   "outputs": [
    {
     "data": {
      "text/plain": [
       "'5'"
      ]
     },
     "execution_count": 13,
     "metadata": {},
     "output_type": "execute_result"
    },
    {
     "data": {
      "text/plain": [
       "(70000,)"
      ]
     },
     "execution_count": 13,
     "metadata": {},
     "output_type": "execute_result"
    }
   ],
   "source": [
    "y[0]\n",
    "# converting to integer\n",
    "y=y.astype(np.uint8)\n",
    "y.shape"
   ]
  },
  {
   "cell_type": "code",
   "execution_count": 14,
   "id": "84305caf",
   "metadata": {},
   "outputs": [],
   "source": [
    "X_train, X_test, y_train, y_test= X[:60000], X[60000:],y[:60000],y[60000:]"
   ]
  },
  {
   "cell_type": "code",
   "execution_count": 15,
   "id": "2902e71d",
   "metadata": {},
   "outputs": [],
   "source": [
    "# X_train=X_train.to_numpy()\n",
    "# X_test=X_test.to_numpy()\n",
    "# y_train=y_train.to_numpy()\n",
    "# y_test=y_test.to_numpy()"
   ]
  },
  {
   "cell_type": "code",
   "execution_count": 16,
   "id": "3e4430b3",
   "metadata": {},
   "outputs": [],
   "source": [
    "# type(X_train)\n",
    "# type(y_train)\n",
    "# # X_train[1]\n",
    "# y_train"
   ]
  },
  {
   "cell_type": "code",
   "execution_count": 17,
   "id": "ea627150",
   "metadata": {},
   "outputs": [],
   "source": [
    "# X_train.shape\n",
    "# nsamples, nx, ny =X_train.shape\n",
    "# d2_train_dataset = X_train.reshape((nsamples,nx*ny))"
   ]
  },
  {
   "cell_type": "code",
   "execution_count": 18,
   "id": "73535201",
   "metadata": {},
   "outputs": [
    {
     "data": {
      "text/plain": [
       "0         True\n",
       "1        False\n",
       "2        False\n",
       "3        False\n",
       "4        False\n",
       "         ...  \n",
       "59995    False\n",
       "59996    False\n",
       "59997     True\n",
       "59998    False\n",
       "59999    False\n",
       "Name: class, Length: 60000, dtype: bool"
      ]
     },
     "execution_count": 18,
     "metadata": {},
     "output_type": "execute_result"
    },
    {
     "data": {
      "text/plain": [
       "60000    False\n",
       "60001    False\n",
       "60002    False\n",
       "60003    False\n",
       "60004    False\n",
       "         ...  \n",
       "69995    False\n",
       "69996    False\n",
       "69997    False\n",
       "69998     True\n",
       "69999    False\n",
       "Name: class, Length: 10000, dtype: bool"
      ]
     },
     "execution_count": 18,
     "metadata": {},
     "output_type": "execute_result"
    }
   ],
   "source": [
    "y_train_5 = (y_train == 5) #Binary classifer which is true for all fives and not otherwise\n",
    "y_train_5\n",
    "y_test_5 = (y_test ==5)\n",
    "y_test_5\n",
    "# this is looking at data in the training set which is ==5 set as 1 and others 0"
   ]
  },
  {
   "cell_type": "code",
   "execution_count": 19,
   "id": "27cf566e",
   "metadata": {},
   "outputs": [],
   "source": [
    "# Stochastic gradient classifier\n",
    "# functions well as it can handle large datasets efficiently"
   ]
  },
  {
   "cell_type": "code",
   "execution_count": 20,
   "id": "e46f11ea",
   "metadata": {},
   "outputs": [
    {
     "data": {
      "text/plain": [
       "SGDClassifier(random_state=42)"
      ]
     },
     "execution_count": 20,
     "metadata": {},
     "output_type": "execute_result"
    }
   ],
   "source": [
    "# Creation of SGD classifier and training entire dataset on it\n",
    "from sklearn.linear_model import SGDClassifier\n",
    "sgd_clf = SGDClassifier(max_iter=1000, tol=1e-3, random_state=42,shuffle=True)\n",
    "sgd_clf.fit(X_train, y_train_5)\n"
   ]
  },
  {
   "cell_type": "code",
   "execution_count": 21,
   "id": "70370f44",
   "metadata": {},
   "outputs": [],
   "source": [
    "# some_digit.shape\n",
    "# type(some_digit)\n",
    "# y_test.shape\n",
    "# y_train.shape\n",
    "# X_train.shape\n",
    "# X_test.shape\n",
    "# y_test.reshape()"
   ]
  },
  {
   "cell_type": "code",
   "execution_count": 22,
   "id": "70b27622",
   "metadata": {},
   "outputs": [
    {
     "data": {
      "text/plain": [
       "array([ True])"
      ]
     },
     "execution_count": 22,
     "metadata": {},
     "output_type": "execute_result"
    }
   ],
   "source": [
    "# sgd_clf.predict([some_digit])\n",
    "sgd_clf.predict( X[:1])\n",
    "# CLassifier set to stochastic would mean results are not reproducible"
   ]
  },
  {
   "cell_type": "code",
   "execution_count": 23,
   "id": "029967cb",
   "metadata": {},
   "outputs": [
    {
     "data": {
      "text/plain": [
       "SGDClassifier(random_state=42)"
      ]
     },
     "execution_count": 23,
     "metadata": {},
     "output_type": "execute_result"
    },
    {
     "name": "stdout",
     "output_type": "stream",
     "text": [
      "0.9669\n"
     ]
    },
    {
     "data": {
      "text/plain": [
       "SGDClassifier(random_state=42)"
      ]
     },
     "execution_count": 23,
     "metadata": {},
     "output_type": "execute_result"
    },
    {
     "name": "stdout",
     "output_type": "stream",
     "text": [
      "0.91625\n"
     ]
    },
    {
     "data": {
      "text/plain": [
       "SGDClassifier(random_state=42)"
      ]
     },
     "execution_count": 23,
     "metadata": {},
     "output_type": "execute_result"
    },
    {
     "name": "stdout",
     "output_type": "stream",
     "text": [
      "0.96785\n"
     ]
    }
   ],
   "source": [
    "# Cross- validating samples \n",
    "# Stratified sampling means the sample chosen represents an accurate ratio of each class/male-female ratios\n",
    "from sklearn.model_selection import StratifiedKFold\n",
    "from sklearn.base import clone\n",
    "skfolds = StratifiedKFold(n_splits=3, random_state=42, shuffle=True)#Since the split is mentioned as 3,\n",
    "#we get 3 values in the end\n",
    "\n",
    "for train_index, test_index in skfolds.split(X_train, y_train_5):\n",
    "    clone_clf=clone(sgd_clf) # first we clone the classifier svd\n",
    "    X_train_folds=X_train.loc[train_index] # then we copy the X_train/pandas data frame needs loc\n",
    "    y_train_folds=y_train_5[train_index] # then we copy the y_train\n",
    "    X_test_fold= X_train.loc[test_index] # then we copy the X_test/pandas data frame needs loc\n",
    "    y_test_fold=y_train_5[test_index] # then we copy the y_test\n",
    "    \n",
    "    clone_clf.fit(X_train_folds, y_train_folds) #We build a copy of the training model\n",
    "    y_pred = clone_clf.predict(X_test_fold) \n",
    "    n_correct=sum(y_pred==y_test_fold) #Evaluating the sum of the correct y_predicted\n",
    "    print(n_correct/len(y_pred)) #Taking the ratio of the correct by the length of y_pred\n",
    "    \n",
    "    "
   ]
  },
  {
   "cell_type": "code",
   "execution_count": 24,
   "id": "98136668",
   "metadata": {},
   "outputs": [],
   "source": [
    "# X_train_folds\n",
    "# y_train_folds\n",
    "# type(X_train_folds)\n",
    "# type(y_train_folds)\n",
    "# The type of dataset does not make any difference/ it can be both series as well as pandas"
   ]
  },
  {
   "cell_type": "code",
   "execution_count": 25,
   "id": "94f6c169",
   "metadata": {},
   "outputs": [
    {
     "data": {
      "text/plain": [
       "array([0.95035, 0.96035, 0.9604 ])"
      ]
     },
     "execution_count": 25,
     "metadata": {},
     "output_type": "execute_result"
    }
   ],
   "source": [
    "from sklearn.model_selection import cross_val_score\n",
    "cross_val_score(sgd_clf, X_train, y_train_5, cv=3, scoring =\"accuracy\")\n",
    "# Evaluating the model using cross validation with three folds/K-fold cross-validation\n",
    "# Splitting training set into 3 folds: cv=3\n",
    "# Non stratified sampling"
   ]
  },
  {
   "cell_type": "code",
   "execution_count": 26,
   "id": "40a7613f",
   "metadata": {},
   "outputs": [],
   "source": [
    "from sklearn.base import BaseEstimator\n",
    "class Never5Classifier(BaseEstimator):\n",
    "    def fit(self, X, y=None):\n",
    "        pass\n",
    "    def predict(self, X):\n",
    "        return np.zeros((len(X), 1), dtype=bool)"
   ]
  },
  {
   "cell_type": "code",
   "execution_count": 27,
   "id": "15a32ac6",
   "metadata": {},
   "outputs": [
    {
     "data": {
      "text/plain": [
       "array([0.91125, 0.90855, 0.90915])"
      ]
     },
     "execution_count": 27,
     "metadata": {},
     "output_type": "execute_result"
    }
   ],
   "source": [
    "never_5_clf=Never5Classifier()\n",
    "cross_val_score(never_5_clf, X_train, y_train_5, cv=3, scoring=\"accuracy\")\n",
    "# this value is providing us with the accuracy of the model\n",
    "#How is this never 5? Task for later"
   ]
  },
  {
   "cell_type": "code",
   "execution_count": 28,
   "id": "817aeb28",
   "metadata": {},
   "outputs": [
    {
     "data": {
      "text/plain": [
       "array([[53570,  1009],\n",
       "       [ 1301,  4120]], dtype=int64)"
      ]
     },
     "execution_count": 28,
     "metadata": {},
     "output_type": "execute_result"
    }
   ],
   "source": [
    "from sklearn.model_selection import cross_val_predict\n",
    "sgd_clf2 = SGDClassifier(max_iter=1500, tol=1e-5, random_state=44,shuffle=True)\n",
    "#this is the state of SGD classifier/ manipulating the values of max_iter, tol and ran_state provides \n",
    "# with different set of confusion matrix plots\n",
    "y_train_pred = cross_val_predict(sgd_clf2, X_train, y_train_5, cv=3)\n",
    "#cross val predict is similar to cross_cal_score\n",
    "from sklearn.metrics import confusion_matrix\n",
    "confusion_matrix(y_train_5, y_train_pred)\n",
    "con_matrix=confusion_matrix(y_train_5, y_train_pred)\n",
    "\n",
    "# First row-non 5's ( correctly classified,wrongly classified)\n",
    "# Second row images of 5's(wrongly classified, correctly classified)\n",
    "# all the 3 datasets are split in an manner so that, there is no overlapp of the data"
   ]
  },
  {
   "cell_type": "code",
   "execution_count": 29,
   "id": "3603e84d",
   "metadata": {
    "scrolled": true
   },
   "outputs": [
    {
     "data": {
      "text/plain": [
       "array([ True, False, False, ...,  True, False, False])"
      ]
     },
     "execution_count": 29,
     "metadata": {},
     "output_type": "execute_result"
    },
    {
     "data": {
      "text/plain": [
       "(60000,)"
      ]
     },
     "execution_count": 29,
     "metadata": {},
     "output_type": "execute_result"
    }
   ],
   "source": [
    "y_train_pred\n",
    "y_train_pred.shape"
   ]
  },
  {
   "cell_type": "code",
   "execution_count": 30,
   "id": "75d9145f",
   "metadata": {},
   "outputs": [
    {
     "data": {
      "text/plain": [
       "0.8032754922986937"
      ]
     },
     "execution_count": 30,
     "metadata": {},
     "output_type": "execute_result"
    },
    {
     "data": {
      "text/plain": [
       "0.7600073787124146"
      ]
     },
     "execution_count": 30,
     "metadata": {},
     "output_type": "execute_result"
    }
   ],
   "source": [
    "4120/(4120+1009)\n",
    "4120/(4120+1301)"
   ]
  },
  {
   "cell_type": "code",
   "execution_count": 31,
   "id": "6d18d59c",
   "metadata": {},
   "outputs": [
    {
     "data": {
      "text/plain": [
       "0.8032754922986937"
      ]
     },
     "execution_count": 31,
     "metadata": {},
     "output_type": "execute_result"
    },
    {
     "data": {
      "text/plain": [
       "0.7600073787124146"
      ]
     },
     "execution_count": 31,
     "metadata": {},
     "output_type": "execute_result"
    }
   ],
   "source": [
    "# Precision and recall\n",
    "# Precision= TP/(TP+FP)=4/(2+4)\n",
    "# Recall = TP/(TP+FN)=4/(3+4)\n",
    "from sklearn.metrics import precision_score, recall_score\n",
    "precision_score(y_train_5, y_train_pred)\n",
    "recall_score(y_train_5, y_train_pred)\n",
    "x1=(con_matrix[0]+con_matrix[0])"
   ]
  },
  {
   "cell_type": "code",
   "execution_count": 32,
   "id": "65646ea2",
   "metadata": {},
   "outputs": [
    {
     "data": {
      "text/plain": [
       "0.7810426540284361"
      ]
     },
     "execution_count": 32,
     "metadata": {},
     "output_type": "execute_result"
    }
   ],
   "source": [
    "# F1 score is an important evaluation parameter\n",
    "#High F1 values are obtained only when both the recal and precision are high\n",
    "# Precision-recall tradeoff's\n",
    "from sklearn.metrics import f1_score\n",
    "f1_score(y_train_5,y_train_pred)"
   ]
  },
  {
   "cell_type": "code",
   "execution_count": 33,
   "id": "4169ad3d",
   "metadata": {
    "scrolled": true
   },
   "outputs": [
    {
     "data": {
      "text/plain": [
       "array([  2164.22030239,  -5897.37359354, -13489.14805779,  -4623.84515943,\n",
       "        -6873.05248453,  -3908.27576291,  -4851.9422397 ,  -4988.52407755,\n",
       "        -2226.78132866,  -4081.33692831,  -5711.47789687,   4742.52813158,\n",
       "       -10322.61970087,  -5028.5080424 ,  -2774.48933701,  -4757.62175338,\n",
       "        -7995.78737908,  -5478.98084419,  -2494.25572149,  -8689.98448487])"
      ]
     },
     "execution_count": 33,
     "metadata": {},
     "output_type": "execute_result"
    },
    {
     "data": {
      "text/plain": [
       "array([ True, False, False, False, False, False, False, False, False,\n",
       "       False, False,  True, False, False, False, False, False, False,\n",
       "       False, False])"
      ]
     },
     "execution_count": 33,
     "metadata": {},
     "output_type": "execute_result"
    }
   ],
   "source": [
    "#cannot access the threshold to classify, however one can access decision scores used in classification\n",
    "y_scores=sgd_clf.decision_function(X[:20])\n",
    "# Replacing somedigit by X[:1]\n",
    "y_scores # predicting scores\n",
    "threshold = 0\n",
    "y_some_digit_pred = (y_scores> threshold)\n",
    "y_some_digit_pred"
   ]
  },
  {
   "cell_type": "markdown",
   "id": "9898297f",
   "metadata": {},
   "source": [
    "#the limiting factor or value for true is 2164, 4742,\n",
    "#both >1"
   ]
  },
  {
   "cell_type": "code",
   "execution_count": 34,
   "id": "b3f4a9ae",
   "metadata": {},
   "outputs": [
    {
     "data": {
      "text/plain": [
       "array([ True, False, False, False, False, False, False, False, False,\n",
       "       False, False,  True, False, False, False, False, False, False,\n",
       "       False, False])"
      ]
     },
     "execution_count": 34,
     "metadata": {},
     "output_type": "execute_result"
    }
   ],
   "source": [
    "y_pred_score=sgd_clf.predict(X[:20])\n",
    "y_pred_score\n",
    "# y_pred_score\n",
    "# del y_pred_score, y_scores\n",
    "# sgd_clf = SGDClassifier(max_iter=1000, tol=1e-3, random_state=42,shuffle=True)\n",
    "# Reminder of classifier"
   ]
  },
  {
   "cell_type": "code",
   "execution_count": 35,
   "id": "47ba98db",
   "metadata": {},
   "outputs": [
    {
     "data": {
      "text/plain": [
       "array([False, False, False, False, False, False, False, False, False,\n",
       "       False, False, False, False, False, False, False, False, False,\n",
       "       False, False])"
      ]
     },
     "execution_count": 35,
     "metadata": {},
     "output_type": "execute_result"
    }
   ],
   "source": [
    "threshold = 8000\n",
    "y_some_digit_pred = (y_scores > threshold)\n",
    "y_some_digit_pred"
   ]
  },
  {
   "cell_type": "code",
   "execution_count": 36,
   "id": "71765021",
   "metadata": {},
   "outputs": [],
   "source": [
    "# Trying to create a large number of subsets of those images\n",
    "# first_20 = X[:20]\n",
    "# for i<20\n",
    "#     i\n",
    "# first_20=first_20.to_numpy()\n",
    "# for \n",
    "# first_20 = first_20.reshape(28, 28)\n",
    "# plt.imshow(some_digit_image, cmap=mpl.cm.binary)\n",
    "# plt.axis(\"off\")\n",
    "# # save_fig(\"some_digit_plot\")\n",
    "# plt.show()"
   ]
  },
  {
   "cell_type": "code",
   "execution_count": 37,
   "id": "b2b0df9a",
   "metadata": {},
   "outputs": [
    {
     "data": {
      "text/plain": [
       "array([  1200.93051237, -26883.79202424, -33072.03475406, ...,\n",
       "        13272.12718981,  -7258.47203373, -16877.50840447])"
      ]
     },
     "execution_count": 37,
     "metadata": {},
     "output_type": "execute_result"
    }
   ],
   "source": [
    "y_scores = cross_val_predict(sgd_clf, X_train, y_train_5, cv=3, method =\"decision_function\")\n",
    "# y_train_pred = cross_val_predict(sgd_clf2, X_train, y_train_5, cv=3)\n",
    "# cross_val_pred has been used earlier. However, this time we pass another argument-\"decision_function\"\n",
    "# We get all the scores now\n",
    "y_scores"
   ]
  },
  {
   "cell_type": "code",
   "execution_count": 38,
   "id": "abf20704",
   "metadata": {},
   "outputs": [],
   "source": [
    "# use these scores to come up with the recall values\n",
    "from sklearn.metrics import precision_recall_curve\n",
    "precisions, recalls, thresholds = precision_recall_curve(y_train_5, y_scores)\n",
    "# y_train_5 is a list of true and false values"
   ]
  },
  {
   "cell_type": "code",
   "execution_count": 39,
   "id": "caa66f78",
   "metadata": {},
   "outputs": [
    {
     "data": {
      "text/plain": [
       "array([-106527.45300471, -105763.22240074, -105406.2965229 , ...,\n",
       "         38871.26391927,   42216.05562787,   49441.43765905])"
      ]
     },
     "execution_count": 39,
     "metadata": {},
     "output_type": "execute_result"
    },
    {
     "data": {
      "text/plain": [
       "array([  1200.93051237, -26883.79202424, -33072.03475406, ...,\n",
       "        13272.12718981,  -7258.47203373, -16877.50840447])"
      ]
     },
     "execution_count": 39,
     "metadata": {},
     "output_type": "execute_result"
    }
   ],
   "source": [
    "thresholds\n",
    "y_scores"
   ]
  },
  {
   "cell_type": "code",
   "execution_count": 40,
   "id": "00c80558",
   "metadata": {},
   "outputs": [
    {
     "data": {
      "text/plain": [
       "<matplotlib.legend.Legend at 0x22897d5d610>"
      ]
     },
     "execution_count": 40,
     "metadata": {},
     "output_type": "execute_result"
    },
    {
     "data": {
      "text/plain": [
       "<function matplotlib.pyplot.show(close=None, block=None)>"
      ]
     },
     "execution_count": 40,
     "metadata": {},
     "output_type": "execute_result"
    },
    {
     "data": {
      "image/png": "[encoded data removed]",
      "text/plain": [
       "<Figure size 432x288 with 1 Axes>"
      ]
     },
     "metadata": {
      "needs_background": "light"
     },
     "output_type": "display_data"
    }
   ],
   "source": [
    "def plot_precision_recall_vs_threshold(precisions, recalls, thresholds):\n",
    "    plt.plot(thresholds, precisions[:-1], \"b--\", label=\"Precision\")\n",
    "    plt.plot(thresholds, recalls[:-1], \"r--\", label=\"Recalls\")\n",
    "    plt.xlabel(\"Thresholds\")\n",
    "\n",
    "plot_precision_recall_vs_threshold(precisions, recalls, thresholds)\n",
    "plt.legend(bbox_to_anchor=(1.05, 1), loc='upper left', borderaxespad=0.)\n",
    "plt.grid()\n",
    "plt.show\n"
   ]
  },
  {
   "cell_type": "markdown",
   "id": "cafe6bb2",
   "metadata": {},
   "source": [
    "# Note : precision curve is bumpier than recalls curve"
   ]
  },
  {
   "cell_type": "code",
   "execution_count": 41,
   "id": "1c3277bb",
   "metadata": {
    "scrolled": true
   },
   "outputs": [
    {
     "data": {
      "text/plain": [
       "<matplotlib.legend.Legend at 0x2289f1e10a0>"
      ]
     },
     "execution_count": 41,
     "metadata": {},
     "output_type": "execute_result"
    },
    {
     "data": {
      "text/plain": [
       "<function matplotlib.pyplot.show(close=None, block=None)>"
      ]
     },
     "execution_count": 41,
     "metadata": {},
     "output_type": "execute_result"
    },
    {
     "data": {
      "image/png": "[encoded data removed]",
      "text/plain": [
       "<Figure size 432x288 with 1 Axes>"
      ]
     },
     "metadata": {
      "needs_background": "light"
     },
     "output_type": "display_data"
    }
   ],
   "source": [
    "def plot_precision_vs_recall(precisions, recalls):\n",
    "    plt.plot(recalls[:-1], precisions[:-1], \"b--\", label=\"Precision vs recalls\")\n",
    "    plt.xlabel(\"recalls\")\n",
    "    plt.ylabel(\"precision\")\n",
    "#     plt.plot(thresholds, recalls[:-1], \"r--\", label=\"Recalls\")\n",
    "\n",
    "plot_precision_vs_recall(precisions, recalls)\n",
    "plt.legend(bbox_to_anchor=(1.05, 1), loc='upper left', borderaxespad=0.)\n",
    "plt.grid()\n",
    "plt.show"
   ]
  },
  {
   "cell_type": "markdown",
   "id": "73a3cc70",
   "metadata": {},
   "source": [
    "# iDEAL CURVE SHOULD BE IN THE TOP RIGHT CORNER"
   ]
  },
  {
   "cell_type": "code",
   "execution_count": 42,
   "id": "bcb91f4c",
   "metadata": {},
   "outputs": [
    {
     "data": {
      "text/plain": [
       "10480.508645329963"
      ]
     },
     "execution_count": 42,
     "metadata": {},
     "output_type": "execute_result"
    }
   ],
   "source": [
    "# Determining the lowest value which gives a certain desired precision, 95%\n",
    "threshold_90_precision = thresholds[np.argmax(precisions >= 0.95)]\n",
    "threshold_90_precision"
   ]
  },
  {
   "cell_type": "code",
   "execution_count": 43,
   "id": "7e614531",
   "metadata": {},
   "outputs": [
    {
     "data": {
      "text/plain": [
       "array([False, False, False, ...,  True, False, False])"
      ]
     },
     "execution_count": 43,
     "metadata": {},
     "output_type": "execute_result"
    }
   ],
   "source": [
    "y_train_pred_90=(y_scores >=threshold_90_precision)\n",
    "y_train_pred_90"
   ]
  },
  {
   "cell_type": "code",
   "execution_count": 44,
   "id": "92c2003e",
   "metadata": {
    "scrolled": true
   },
   "outputs": [
    {
     "data": {
      "image/png": "[encoded data removed]",
      "text/plain": [
       "<Figure size 432x288 with 1 Axes>"
      ]
     },
     "metadata": {
      "needs_background": "light"
     },
     "output_type": "display_data"
    }
   ],
   "source": [
    "# ROC| Reciever operating characteristic curve\n",
    "# PLOT OF TRUE POSITIVE RATE AND FALSE Positive RATE\n",
    "# Right hand column of the matrix \n",
    "# FPR: False positive rate\n",
    "# TPR: True negative rate\n",
    "\n",
    "from sklearn.metrics import roc_curve\n",
    "fpr,tpr, thresholds = roc_curve(y_train_5, y_scores)\n",
    "# ALL roc curves are based upon the true y(classifications vs false classifications)\n",
    "# Plotting the FPR vs TPR \n",
    "def plot_roc_curve(fpr, tpr, label=None):\n",
    "    plt.plot(fpr,tpr,linewidth=2, label=label)\n",
    "    plt.plot([0,1],[0,1],'k--')\n",
    "    [...]\n",
    "plot_roc_curve(fpr,tpr)\n",
    "plt.show()"
   ]
  },
  {
   "cell_type": "markdown",
   "id": "09adcab9",
   "metadata": {},
   "source": [
    "# Ideal ROC curve, the line is far away from the 45 degrees line and arching at the top right corner"
   ]
  },
  {
   "cell_type": "code",
   "execution_count": 45,
   "id": "ac190383",
   "metadata": {},
   "outputs": [
    {
     "data": {
      "text/plain": [
       "0.9604938554008616"
      ]
     },
     "execution_count": 45,
     "metadata": {},
     "output_type": "execute_result"
    }
   ],
   "source": [
    "from sklearn.metrics import roc_auc_score\n",
    "roc_auc_score(y_train_5, y_scores)\n",
    "# COMPUTING THE AREA UNDER THE CURVE"
   ]
  },
  {
   "cell_type": "code",
   "execution_count": 46,
   "id": "2e389f35",
   "metadata": {},
   "outputs": [],
   "source": [
    "# WHICH ONE TO USE ROC OR AUC\n",
    "# ROC WHEN SELECTING THE FALSE POSITIVE/FALSE NEGATIVE IS KINDA IMPORTANT"
   ]
  },
  {
   "cell_type": "code",
   "execution_count": 53,
   "id": "367de472",
   "metadata": {},
   "outputs": [],
   "source": [
    "# Comparing ROC and AUC(forest_classifer vs SGDCClassifier)\n",
    "# Decision_function is used to return scores for an instance\n",
    "from sklearn.ensemble import RandomForestClassifier\n",
    "forest_clf= RandomForestClassifier(random_state=42)\n",
    "y_probas_forest = cross_val_predict(forest_clf, X_train, y_train_5, cv=3,\n",
    "                                   method=\"predict_proba\")"
   ]
  },
  {
   "cell_type": "code",
   "execution_count": 60,
   "id": "d4d571ce",
   "metadata": {},
   "outputs": [
    {
     "data": {
      "text/plain": [
       "array([[0.11, 0.89],\n",
       "       [0.99, 0.01],\n",
       "       [0.96, 0.04],\n",
       "       ...,\n",
       "       [0.02, 0.98],\n",
       "       [0.92, 0.08],\n",
       "       [0.94, 0.06]])"
      ]
     },
     "execution_count": 60,
     "metadata": {},
     "output_type": "execute_result"
    }
   ],
   "source": [
    "y_probas_forest"
   ]
  },
  {
   "cell_type": "code",
   "execution_count": 61,
   "id": "06c51063",
   "metadata": {},
   "outputs": [
    {
     "data": {
      "text/plain": [
       "60000"
      ]
     },
     "execution_count": 61,
     "metadata": {},
     "output_type": "execute_result"
    }
   ],
   "source": [
    "y_scores_forest = y_probas_forest[:,1]\n",
    "fpr_forest, tpr_forest, thresholds_forest =roc_curve(y_train_5, y_scores_forest)\n",
    "y_scores_forest.size"
   ]
  },
  {
   "cell_type": "code",
   "execution_count": 62,
   "id": "9f0ba6d3",
   "metadata": {},
   "outputs": [
    {
     "data": {
      "text/plain": [
       "<matplotlib.legend.Legend at 0x22915217790>"
      ]
     },
     "execution_count": 62,
     "metadata": {},
     "output_type": "execute_result"
    },
    {
     "data": {
      "text/plain": [
       "Text(0.5, 0, 'false positive')"
      ]
     },
     "execution_count": 62,
     "metadata": {},
     "output_type": "execute_result"
    },
    {
     "data": {
      "text/plain": [
       "Text(0, 0.5, 'true positive')"
      ]
     },
     "execution_count": 62,
     "metadata": {},
     "output_type": "execute_result"
    },
    {
     "data": {
      "image/png": "[encoded data removed]",
      "text/plain": [
       "<Figure size 432x288 with 1 Axes>"
      ]
     },
     "metadata": {
      "needs_background": "light"
     },
     "output_type": "display_data"
    }
   ],
   "source": [
    "# Plotting ROC for random_forest_classifiers\n",
    "# def plot_roc_curve(fpr, tpr, label=None):\n",
    "#     plt.plot(fpr,tpr,linewidth=2, label=label)\n",
    "#     plt.plot([0,1],[0,1],'k--')\n",
    "#     [...]\n",
    "plot_roc_curve(fpr,tpr, label=\"SGD\")\n",
    "plot_roc_curve(fpr_forest,tpr_forest, \"Random Forest\")\n",
    "plt.legend(loc=\"lower right\")\n",
    "plt.xlabel(\"false positive\")\n",
    "plt.ylabel(\"true positive\")\n",
    "plt.show()"
   ]
  },
  {
   "cell_type": "markdown",
   "id": "211686d8",
   "metadata": {},
   "source": [
    "cross_val_predict is useful to get all the decision values scores 8000, 12000, -4500 etcThe difference between predict and predict_proba is that predict will give you output like 0,1. Whereas predict_proba will give you the probability value of y being 0 or 1.\n",
    "Example difference between predict and predict_proba\n",
    "In your case it says there is 23% probability of point being 0 and 76% probability of point being 1.\n",
    "\n",
    "Now where to use predict and predict_proba.\n",
    "Predict can be used normally to get prediction values.\n",
    "\n",
    "But suppose you are working on cancer diagnosis problem and you want to be very sure with your results. So in that case you can use predict_proba which will give you class probability values and you can set some threshold like if predict_proba_value > .98 return class 1 else 0. So basically with the help of predit_proba we can set threshold as per our needs.\n"
   ]
  },
  {
   "cell_type": "code",
   "execution_count": 63,
   "id": "8118eab4",
   "metadata": {
    "scrolled": true
   },
   "outputs": [
    {
     "data": {
      "text/plain": [
       "0.9983436731328145"
      ]
     },
     "execution_count": 63,
     "metadata": {},
     "output_type": "execute_result"
    }
   ],
   "source": [
    "from sklearn.metrics import roc_auc_score\n",
    "roc_auc_score(y_train_5, y_scores_forest)\n",
    "# y_scores_forest is well done"
   ]
  },
  {
   "cell_type": "code",
   "execution_count": 64,
   "id": "852270c2",
   "metadata": {},
   "outputs": [
    {
     "data": {
      "text/plain": [
       "array([0.89, 0.01, 0.04, ..., 0.98, 0.08, 0.06])"
      ]
     },
     "execution_count": 64,
     "metadata": {},
     "output_type": "execute_result"
    }
   ],
   "source": [
    "y_scores_forest"
   ]
  },
  {
   "cell_type": "code",
   "execution_count": 65,
   "id": "5400a21a",
   "metadata": {
    "scrolled": true
   },
   "outputs": [
    {
     "data": {
      "text/plain": [
       "<matplotlib.legend.Legend at 0x22890d01730>"
      ]
     },
     "execution_count": 65,
     "metadata": {},
     "output_type": "execute_result"
    },
    {
     "data": {
      "text/plain": [
       "<function matplotlib.pyplot.show(close=None, block=None)>"
      ]
     },
     "execution_count": 65,
     "metadata": {},
     "output_type": "execute_result"
    },
    {
     "data": {
      "text/plain": [
       "<matplotlib.legend.Legend at 0x2289f1e1190>"
      ]
     },
     "execution_count": 65,
     "metadata": {},
     "output_type": "execute_result"
    },
    {
     "data": {
      "text/plain": [
       "<function matplotlib.pyplot.show(close=None, block=None)>"
      ]
     },
     "execution_count": 65,
     "metadata": {},
     "output_type": "execute_result"
    },
    {
     "data": {
      "image/png": "[encoded data removed]",
      "text/plain": [
       "<Figure size 432x288 with 1 Axes>"
      ]
     },
     "metadata": {
      "needs_background": "light"
     },
     "output_type": "display_data"
    },
    {
     "data": {
      "image/png": "[encoded data removed]",
      "text/plain": [
       "<Figure size 432x288 with 1 Axes>"
      ]
     },
     "metadata": {
      "needs_background": "light"
     },
     "output_type": "display_data"
    }
   ],
   "source": [
    "# Measuring precision and re-call scores\n",
    "from sklearn.metrics import precision_recall_curve\n",
    "precisions_forest, recalls_forest, thresholds_forest = precision_recall_curve(y_train_5, y_scores_forest)\n",
    "\n",
    "def plot_precision_recall_vs_threshold(precisions, recalls, thresholds):\n",
    "    plt.figure(0)\n",
    "    plt.plot(thresholds, precisions[:-1], \"b--\", label=\"Precision\")\n",
    "    plt.plot(thresholds, recalls[:-1], \"r--\", label=\"Recalls\")\n",
    "    plt.xlabel(\"Thresholds\")\n",
    "\n",
    "plot_precision_recall_vs_threshold(precisions_forest, recalls_forest, thresholds_forest)\n",
    "plt.legend(bbox_to_anchor=(1.05, 1), loc='upper left', borderaxespad=0.)\n",
    "plt.grid()\n",
    "plt.show\n",
    "\n",
    "def plot_precision_vs_recall(precisions, recalls):\n",
    "    plt.figure(1)\n",
    "    plt.plot(recalls[:-1], precisions[:-1], \"b--\", label=\"Precision vs recalls\")\n",
    "    plt.xlabel(\"recalls\")\n",
    "    plt.ylabel(\"precision\")\n",
    "#     plt.plot(thresholds, recalls[:-1], \"r--\", label=\"Recalls\")\n",
    "\n",
    "plot_precision_vs_recall(precisions_forest, recalls_forest)\n",
    "plt.legend(bbox_to_anchor=(1.05, 1), loc='upper left', borderaxespad=0.)\n",
    "plt.grid()\n",
    "plt.show"
   ]
  },
  {
   "cell_type": "code",
   "execution_count": 66,
   "id": "7a63bcaf",
   "metadata": {},
   "outputs": [
    {
     "data": {
      "text/plain": [
       "<matplotlib.legend.Legend at 0x22914f1dc40>"
      ]
     },
     "execution_count": 66,
     "metadata": {},
     "output_type": "execute_result"
    },
    {
     "data": {
      "text/plain": [
       "<function matplotlib.pyplot.show(close=None, block=None)>"
      ]
     },
     "execution_count": 66,
     "metadata": {},
     "output_type": "execute_result"
    },
    {
     "data": {
      "image/png": "[encoded data removed]",
      "text/plain": [
       "<Figure size 432x288 with 1 Axes>"
      ]
     },
     "metadata": {
      "needs_background": "light"
     },
     "output_type": "display_data"
    }
   ],
   "source": [
    "from sklearn.metrics import precision_recall_curve\n",
    "precisions, recalls, thresholds = precision_recall_curve(y_train_5, y_scores)\n",
    "\n",
    "def plot_precision_recall_vs_threshold(precisions, recalls, thresholds):\n",
    "    plt.plot(thresholds, precisions[:-1], \"b--\", label=\"Precision\")\n",
    "    plt.plot(thresholds, recalls[:-1], \"r--\", label=\"Recalls\")\n",
    "    plt.xlabel(\"Thresholds\")\n",
    "\n",
    "plot_precision_recall_vs_threshold(precisions_forest, recalls_forest, thresholds_forest)\n",
    "plt.legend(bbox_to_anchor=(1.05, 1), loc='upper left', borderaxespad=0.)\n",
    "plt.grid()\n",
    "plt.show\n"
   ]
  },
  {
   "cell_type": "code",
   "execution_count": 67,
   "id": "f708b990",
   "metadata": {},
   "outputs": [
    {
     "data": {
      "text/plain": [
       "0.51"
      ]
     },
     "execution_count": 67,
     "metadata": {},
     "output_type": "execute_result"
    },
    {
     "data": {
      "text/plain": [
       "0.9905083315756169"
      ]
     },
     "execution_count": 67,
     "metadata": {},
     "output_type": "execute_result"
    },
    {
     "data": {
      "text/plain": [
       "0.8662608374838591"
      ]
     },
     "execution_count": 67,
     "metadata": {},
     "output_type": "execute_result"
    }
   ],
   "source": [
    "threshold_90_precision_forest = thresholds_forest[np.argmax(precisions_forest >= 0.99)] #\n",
    "threshold_90_precision_forest\n",
    "y_train_pred_90_forest=(y_scores_forest>=threshold_90_precision_forest)\n",
    "# The values here are for probabilities of the same not the real score\n",
    "precision_score(y_train_5, y_train_pred_90_forest)\n",
    "recall_score(y_train_5, y_train_pred_90_forest)"
   ]
  },
  {
   "cell_type": "code",
   "execution_count": 68,
   "id": "50f21d3f",
   "metadata": {},
   "outputs": [],
   "source": [
    "# SO WE HAVE REACHED A PRECISION AND RECALL SCORES: 99.0% PRECISION AND 86.6% RECALL"
   ]
  },
  {
   "cell_type": "markdown",
   "id": "e15bf8e0",
   "metadata": {},
   "source": [
    "# MULTICLASS CLASSIFICATION"
   ]
  },
  {
   "cell_type": "code",
   "execution_count": 69,
   "id": "ab3f5bc6",
   "metadata": {},
   "outputs": [
    {
     "data": {
      "text/plain": [
       "SVC()"
      ]
     },
     "execution_count": 69,
     "metadata": {},
     "output_type": "execute_result"
    }
   ],
   "source": [
    "# support vector machine classifier(SVM)\n",
    "from sklearn.svm import SVC\n",
    "svm_clf= SVC()\n",
    "svm_clf.fit(X_train, y_train) # here we use y_train instead of y_train_5\n",
    "# y_train_5 contains only 1's for the 5, whereas y_train contains only "
   ]
  },
  {
   "cell_type": "code",
   "execution_count": 70,
   "id": "a9d45aec",
   "metadata": {},
   "outputs": [
    {
     "data": {
      "text/plain": [
       "0        5\n",
       "1        0\n",
       "2        4\n",
       "3        1\n",
       "4        9\n",
       "        ..\n",
       "59995    8\n",
       "59996    3\n",
       "59997    5\n",
       "59998    6\n",
       "59999    8\n",
       "Name: class, Length: 60000, dtype: uint8"
      ]
     },
     "execution_count": 70,
     "metadata": {},
     "output_type": "execute_result"
    }
   ],
   "source": [
    "y_train"
   ]
  },
  {
   "cell_type": "code",
   "execution_count": 71,
   "id": "986d9ed6",
   "metadata": {},
   "outputs": [
    {
     "data": {
      "text/plain": [
       "array([5], dtype=uint8)"
      ]
     },
     "execution_count": 71,
     "metadata": {},
     "output_type": "execute_result"
    }
   ],
   "source": [
    "w=svm_clf.predict(some_digit)\n",
    "w\n",
    "# SVM uses OvO(one versus one) strategy|| OvR(one versus rest)\n",
    "# Multiple lines are categorically run through this"
   ]
  },
  {
   "cell_type": "code",
   "execution_count": 72,
   "id": "37e82283",
   "metadata": {},
   "outputs": [
    {
     "data": {
      "text/plain": [
       "array([[ 1.72501977,  2.72809088,  7.2510018 ,  8.3076379 , -0.31087254,\n",
       "         9.3132482 ,  1.70975103,  2.76765202,  6.23049537,  4.84771048]])"
      ]
     },
     "execution_count": 72,
     "metadata": {},
     "output_type": "execute_result"
    }
   ],
   "source": [
    "some_digit_scores=svm_clf.decision_function(some_digit)\n",
    "some_digit_scores\n",
    "# [ 0, 1, 2, 3, 4, 5, 6, 7, 8, 9] [Highest score correponding is to class 5- 9.313]"
   ]
  },
  {
   "cell_type": "code",
   "execution_count": 73,
   "id": "f9d57e05",
   "metadata": {},
   "outputs": [
    {
     "data": {
      "text/plain": [
       "5"
      ]
     },
     "execution_count": 73,
     "metadata": {},
     "output_type": "execute_result"
    },
    {
     "data": {
      "text/plain": [
       "array([0, 1, 2, 3, 4, 5, 6, 7, 8, 9], dtype=uint8)"
      ]
     },
     "execution_count": 73,
     "metadata": {},
     "output_type": "execute_result"
    },
    {
     "data": {
      "text/plain": [
       "5"
      ]
     },
     "execution_count": 73,
     "metadata": {},
     "output_type": "execute_result"
    }
   ],
   "source": [
    "# To determine which number it is, use argmax which will provide the max of the some_digit_score array\n",
    "np.argmax(some_digit_scores)\n",
    "svm_clf.classes_\n",
    "svm_clf.classes_[5]"
   ]
  },
  {
   "cell_type": "code",
   "execution_count": null,
   "id": "e024e3f0",
   "metadata": {},
   "outputs": [],
   "source": [
    "# from sklearn.multiclass import OneVsRestClassifier\n",
    "# ovr_clf=OneVsRestClassifier(SVC())\n",
    "# ovr_clf.fit(X_train, y_train)\n",
    "# ovr_clf.predict(some_digit)"
   ]
  },
  {
   "cell_type": "code",
   "execution_count": 58,
   "id": "7b966d18",
   "metadata": {},
   "outputs": [],
   "source": [
    "\n",
    "\n"
   ]
  },
  {
   "cell_type": "code",
   "execution_count": null,
   "id": "4a93e427",
   "metadata": {},
   "outputs": [],
   "source": []
  }
 ],
 "metadata": {
  "kernelspec": {
   "display_name": "Hands_conda",
   "language": "python",
   "name": "hands_conda"
  },
  "language_info": {
   "codemirror_mode": {
    "name": "ipython",
    "version": 3
   },
   "file_extension": ".py",
   "mimetype": "text/x-python",
   "name": "python",
   "nbconvert_exporter": "python",
   "pygments_lexer": "ipython3",
   "version": "3.8.8"
  }
 },
 "nbformat": 4,
 "nbformat_minor": 5
}
