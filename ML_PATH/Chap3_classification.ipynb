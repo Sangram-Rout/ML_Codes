{
 "cells": [
  {
   "cell_type": "code",
   "execution_count": 1,
   "id": "0babbe6f",
   "metadata": {},
   "outputs": [],
   "source": [
    "# Classification Problems: chapter 3\n",
    "import os\n",
    "import tarfile\n",
    "import urllib.request\n",
    "from IPython.core.interactiveshell import InteractiveShell\n",
    "InteractiveShell.ast_node_interactivity = \"all\"\n",
    "import pandas as pd\n",
    "import matplotlib.pyplot as plt\n",
    "import numpy as np\n",
    "def split_train_test(data, test_ratio):\n",
    "    shuffled_indices = np.random.permutation(len(data))\n",
    "    test_set_size = int(len(data) * test_ratio)\n",
    "    test_indices = shuffled_indices[:test_set_size]\n",
    "    train_indices = shuffled_indices[test_set_size:]\n",
    "    return data.iloc[train_indices], data.iloc[test_indices]\n",
    "def split_train_test_by_id(data, test_ratio, id_column):\n",
    "    ids = data[id_column]\n",
    "    in_test_set = ids.apply(lambda id_: test_set_check(id_, test_ratio))\n",
    "    return data.loc[~in_test_set], data.loc[in_test_set]\n",
    "from sklearn.model_selection import train_test_split\n",
    "from sklearn.model_selection import StratifiedShuffleSplit\n",
    "from sklearn.impute import SimpleImputer\n",
    "imputer = SimpleImputer(strategy=\"median\")\n",
    "from sklearn.preprocessing import OrdinalEncoder\n",
    "ordinal_encoder=OrdinalEncoder()\n",
    "from sklearn.preprocessing import OneHotEncoder\n",
    "cat_encoder=OneHotEncoder()\n",
    "from sklearn.base import BaseEstimator, TransformerMixin\n",
    "from sklearn.pipeline import Pipeline\n",
    "from sklearn.preprocessing import StandardScaler\n",
    "from sklearn.compose import ColumnTransformer\n",
    "from sklearn.metrics import mean_squared_error"
   ]
  },
  {
   "cell_type": "code",
   "execution_count": 3,
   "id": "0e94e46b",
   "metadata": {},
   "outputs": [
    {
     "data": {
      "text/plain": [
       "dict_keys(['data', 'target', 'frame', 'categories', 'feature_names', 'target_names', 'DESCR', 'details', 'url'])"
      ]
     },
     "execution_count": 3,
     "metadata": {},
     "output_type": "execute_result"
    }
   ],
   "source": [
    "from sklearn.datasets import fetch_openml\n",
    "mnist = fetch_openml('mnist_784', version =1)\n",
    "mnist.keys()"
   ]
  },
  {
   "cell_type": "code",
   "execution_count": 5,
   "id": "a2a62903",
   "metadata": {},
   "outputs": [
    {
     "data": {
      "text/plain": [
       "sklearn.utils.Bunch"
      ]
     },
     "execution_count": 5,
     "metadata": {},
     "output_type": "execute_result"
    }
   ],
   "source": [
    "type(mnist)\n"
   ]
  },
  {
   "cell_type": "code",
   "execution_count": 63,
   "id": "30833a13",
   "metadata": {},
   "outputs": [],
   "source": [
    "X, y= mnist[\"data\"], mnist[\"target\"]"
   ]
  },
  {
   "cell_type": "code",
   "execution_count": 7,
   "id": "dd2cb390",
   "metadata": {},
   "outputs": [
    {
     "data": {
      "text/plain": [
       "(70000, 784)"
      ]
     },
     "execution_count": 7,
     "metadata": {},
     "output_type": "execute_result"
    }
   ],
   "source": [
    "X.shape\n",
    "# each pixel contains 28x28 pixels which is 784 data array, in total there are 70,000 images"
   ]
  },
  {
   "cell_type": "code",
   "execution_count": 64,
   "id": "5f7c478a",
   "metadata": {},
   "outputs": [
    {
     "data": {
      "text/plain": [
       "(70000,)"
      ]
     },
     "execution_count": 64,
     "metadata": {},
     "output_type": "execute_result"
    },
    {
     "data": {
      "text/plain": [
       "'0'"
      ]
     },
     "execution_count": 64,
     "metadata": {},
     "output_type": "execute_result"
    }
   ],
   "source": [
    "y.shape\n",
    "y[1]"
   ]
  },
  {
   "cell_type": "code",
   "execution_count": 65,
   "id": "cc18f226",
   "metadata": {},
   "outputs": [
    {
     "data": {
      "text/plain": [
       "<matplotlib.image.AxesImage at 0x279949e4af0>"
      ]
     },
     "execution_count": 65,
     "metadata": {},
     "output_type": "execute_result"
    },
    {
     "data": {
      "text/plain": [
       "(-0.5, 27.5, 27.5, -0.5)"
      ]
     },
     "execution_count": 65,
     "metadata": {},
     "output_type": "execute_result"
    },
    {
     "data": {
      "image/png": "[encoded data removed]",
      "text/plain": [
       "<Figure size 432x288 with 1 Axes>"
      ]
     },
     "metadata": {
      "needs_background": "light"
     },
     "output_type": "display_data"
    }
   ],
   "source": [
    "%matplotlib inline\n",
    "import matplotlib as mpl\n",
    "import matplotlib.pyplot as plt\n",
    "\n",
    "some_digit = X[:1]\n",
    "some_digit=some_digit.to_numpy()\n",
    "some_digit_image = some_digit.reshape(28, 28)\n",
    "plt.imshow(some_digit_image, cmap=mpl.cm.binary)\n",
    "plt.axis(\"off\")\n",
    "# save_fig(\"some_digit_plot\")\n",
    "plt.show()"
   ]
  },
  {
   "cell_type": "code",
   "execution_count": 14,
   "id": "a578186e",
   "metadata": {},
   "outputs": [],
   "source": [
    "# X"
   ]
  },
  {
   "cell_type": "code",
   "execution_count": 166,
   "id": "840c2e5a",
   "metadata": {
    "scrolled": true
   },
   "outputs": [
    {
     "data": {
      "text/plain": [
       "pandas.core.frame.DataFrame"
      ]
     },
     "execution_count": 166,
     "metadata": {},
     "output_type": "execute_result"
    },
    {
     "data": {
      "text/plain": [
       "<matplotlib.image.AxesImage at 0x27902eb8160>"
      ]
     },
     "execution_count": 166,
     "metadata": {},
     "output_type": "execute_result"
    },
    {
     "data": {
      "text/plain": [
       "(-0.5, 27.5, 27.5, -0.5)"
      ]
     },
     "execution_count": 166,
     "metadata": {},
     "output_type": "execute_result"
    },
    {
     "data": {
      "image/png": "[encoded data removed]",
      "text/plain": [
       "<Figure size 432x288 with 1 Axes>"
      ]
     },
     "metadata": {
      "needs_background": "light"
     },
     "output_type": "display_data"
    }
   ],
   "source": [
    "import matplotlib as mpl\n",
    "import matplotlib.pyplot as plt\n",
    "some_digit = X[:1]\n",
    "# some_digit_image =some_digit.reshape(28,28)\n",
    "type(some_digit)\n",
    "some_digit_numpy=some_digit.to_numpy()\n",
    "some_digit_image =some_digit_numpy.reshape(28,28)\n",
    "plt.imshow(some_digit_image, cmap=\"binary\")\n",
    "plt.axis(\"off\")\n",
    "plt.show()\n",
    "# Numpy array is needed for the image plot whereas for the prediction the panda data frame works\n",
    "# not numpy array"
   ]
  },
  {
   "cell_type": "code",
   "execution_count": 98,
   "id": "9ad7951c",
   "metadata": {},
   "outputs": [
    {
     "data": {
      "text/plain": [
       "5"
      ]
     },
     "execution_count": 98,
     "metadata": {},
     "output_type": "execute_result"
    },
    {
     "data": {
      "text/plain": [
       "(70000,)"
      ]
     },
     "execution_count": 98,
     "metadata": {},
     "output_type": "execute_result"
    }
   ],
   "source": [
    "y[0]\n",
    "# converting to integer\n",
    "y=y.astype(np.uint8)\n",
    "y.shape"
   ]
  },
  {
   "cell_type": "code",
   "execution_count": 167,
   "id": "84305caf",
   "metadata": {},
   "outputs": [],
   "source": [
    "X_train, X_test, y_train, y_test= X[:60000], X[60000:],y[:60000],y[60000:]"
   ]
  },
  {
   "cell_type": "code",
   "execution_count": 80,
   "id": "e1a32732",
   "metadata": {},
   "outputs": [],
   "source": [
    "# X_train=X_train.to_numpy()\n",
    "# X_test=X_test.to_numpy()\n",
    "# y_train=y_train.to_numpy()\n",
    "# y_test=y_test.to_numpy()"
   ]
  },
  {
   "cell_type": "code",
   "execution_count": 104,
   "id": "8c35e53d",
   "metadata": {},
   "outputs": [],
   "source": [
    "# type(X_train)\n",
    "# type(y_train)\n",
    "# # X_train[1]\n",
    "# y_train"
   ]
  },
  {
   "cell_type": "code",
   "execution_count": 53,
   "id": "e7528929",
   "metadata": {},
   "outputs": [],
   "source": [
    "# X_train.shape\n",
    "# nsamples, nx, ny =X_train.shape\n",
    "# d2_train_dataset = X_train.reshape((nsamples,nx*ny))"
   ]
  },
  {
   "cell_type": "code",
   "execution_count": 168,
   "id": "73535201",
   "metadata": {},
   "outputs": [
    {
     "data": {
      "text/plain": [
       "0         True\n",
       "1        False\n",
       "2        False\n",
       "3        False\n",
       "4        False\n",
       "         ...  \n",
       "59995    False\n",
       "59996    False\n",
       "59997     True\n",
       "59998    False\n",
       "59999    False\n",
       "Name: class, Length: 60000, dtype: bool"
      ]
     },
     "execution_count": 168,
     "metadata": {},
     "output_type": "execute_result"
    },
    {
     "data": {
      "text/plain": [
       "60000    False\n",
       "60001    False\n",
       "60002    False\n",
       "60003    False\n",
       "60004    False\n",
       "         ...  \n",
       "69995    False\n",
       "69996    False\n",
       "69997    False\n",
       "69998     True\n",
       "69999    False\n",
       "Name: class, Length: 10000, dtype: bool"
      ]
     },
     "execution_count": 168,
     "metadata": {},
     "output_type": "execute_result"
    }
   ],
   "source": [
    "y_train_5 = (y_train == 5) #Binary classifer which is true for all fives and not otherwise\n",
    "y_train_5\n",
    "y_test_5 = (y_test ==5)\n",
    "y_test_5\n",
    "# this is looking at data in the training set which is ==5 set as 1 and others 0"
   ]
  },
  {
   "cell_type": "code",
   "execution_count": 56,
   "id": "27cf566e",
   "metadata": {},
   "outputs": [],
   "source": [
    "# Stochastic gradient classifier\n",
    "# functions well as it can handle large datasets efficiently"
   ]
  },
  {
   "cell_type": "code",
   "execution_count": 169,
   "id": "e46f11ea",
   "metadata": {},
   "outputs": [
    {
     "data": {
      "text/plain": [
       "SGDClassifier(random_state=42)"
      ]
     },
     "execution_count": 169,
     "metadata": {},
     "output_type": "execute_result"
    }
   ],
   "source": [
    "# Creation of SGD classifier and training entire dataset on it\n",
    "from sklearn.linear_model import SGDClassifier\n",
    "sgd_clf = SGDClassifier(max_iter=1000, tol=1e-3, random_state=42,shuffle=True)\n",
    "sgd_clf.fit(X_train, y_train_5)\n"
   ]
  },
  {
   "cell_type": "code",
   "execution_count": 107,
   "id": "8013336a",
   "metadata": {},
   "outputs": [],
   "source": [
    "# some_digit.shape\n",
    "# type(some_digit)\n",
    "# y_test.shape\n",
    "# y_train.shape\n",
    "# X_train.shape\n",
    "# X_test.shape\n",
    "# y_test.reshape()"
   ]
  },
  {
   "cell_type": "code",
   "execution_count": 170,
   "id": "7fca7b5f",
   "metadata": {},
   "outputs": [
    {
     "data": {
      "text/plain": [
       "array([ True])"
      ]
     },
     "execution_count": 170,
     "metadata": {},
     "output_type": "execute_result"
    }
   ],
   "source": [
    "# sgd_clf.predict([some_digit])\n",
    "sgd_clf.predict( X[:1])\n",
    "# CLassifier set to stochastic would mean results are not reproducible"
   ]
  },
  {
   "cell_type": "code",
   "execution_count": 171,
   "id": "029967cb",
   "metadata": {},
   "outputs": [
    {
     "data": {
      "text/plain": [
       "SGDClassifier(random_state=42)"
      ]
     },
     "execution_count": 171,
     "metadata": {},
     "output_type": "execute_result"
    },
    {
     "name": "stdout",
     "output_type": "stream",
     "text": [
      "0.9669\n"
     ]
    },
    {
     "data": {
      "text/plain": [
       "SGDClassifier(random_state=42)"
      ]
     },
     "execution_count": 171,
     "metadata": {},
     "output_type": "execute_result"
    },
    {
     "name": "stdout",
     "output_type": "stream",
     "text": [
      "0.91625\n"
     ]
    },
    {
     "data": {
      "text/plain": [
       "SGDClassifier(random_state=42)"
      ]
     },
     "execution_count": 171,
     "metadata": {},
     "output_type": "execute_result"
    },
    {
     "name": "stdout",
     "output_type": "stream",
     "text": [
      "0.96785\n"
     ]
    }
   ],
   "source": [
    "# Cross- validating samples \n",
    "# Stratified sampling means the sample chosen represents an accurate ratio of each class/male-female ratios\n",
    "from sklearn.model_selection import StratifiedKFold\n",
    "from sklearn.base import clone\n",
    "skfolds = StratifiedKFold(n_splits=3, random_state=42, shuffle=True)#Since the split is mentioned as 3,\n",
    "#we get 3 values in the end\n",
    "\n",
    "for train_index, test_index in skfolds.split(X_train, y_train_5):\n",
    "    clone_clf=clone(sgd_clf) # first we clone the classifier svd\n",
    "    X_train_folds=X_train.loc[train_index] # then we copy the X_train/pandas data frame needs loc\n",
    "    y_train_folds=y_train_5[train_index] # then we copy the y_train\n",
    "    X_test_fold= X_train.loc[test_index] # then we copy the X_test/pandas data frame needs loc\n",
    "    y_test_fold=y_train_5[test_index] # then we copy the y_test\n",
    "    \n",
    "    clone_clf.fit(X_train_folds, y_train_folds) #We build a copy of the training model\n",
    "    y_pred = clone_clf.predict(X_test_fold) \n",
    "    n_correct=sum(y_pred==y_test_fold) #Evaluating the sum of the correct y_predicted\n",
    "    print(n_correct/len(y_pred)) #Taking the ratio of the correct by the length of y_pred\n",
    "    \n",
    "    "
   ]
  },
  {
   "cell_type": "code",
   "execution_count": 128,
   "id": "7282a368",
   "metadata": {},
   "outputs": [],
   "source": [
    "# X_train_folds\n",
    "# y_train_folds\n",
    "# type(X_train_folds)\n",
    "# type(y_train_folds)\n",
    "# The type of dataset does not make any difference/ it can be both series as well as pandas"
   ]
  },
  {
   "cell_type": "code",
   "execution_count": 172,
   "id": "43c6431c",
   "metadata": {},
   "outputs": [
    {
     "data": {
      "text/plain": [
       "array([0.95035, 0.96035, 0.9604 ])"
      ]
     },
     "execution_count": 172,
     "metadata": {},
     "output_type": "execute_result"
    }
   ],
   "source": [
    "from sklearn.model_selection import cross_val_score\n",
    "cross_val_score(sgd_clf, X_train, y_train_5, cv=3, scoring =\"accuracy\")\n",
    "# Evaluating the model using cross validation with three folds/K-fold cross-validation\n",
    "# Splitting training set into 3 folds: cv=3\n",
    "# Non stratified sampling"
   ]
  },
  {
   "cell_type": "code",
   "execution_count": 173,
   "id": "439da7c3",
   "metadata": {},
   "outputs": [],
   "source": [
    "from sklearn.base import BaseEstimator\n",
    "class Never5Classifier(BaseEstimator):\n",
    "    def fit(self, X, y=None):\n",
    "        pass\n",
    "    def predict(self, X):\n",
    "        return np.zeros((len(X), 1), dtype=bool)"
   ]
  },
  {
   "cell_type": "code",
   "execution_count": 174,
   "id": "1b331114",
   "metadata": {},
   "outputs": [
    {
     "data": {
      "text/plain": [
       "array([0.91125, 0.90855, 0.90915])"
      ]
     },
     "execution_count": 174,
     "metadata": {},
     "output_type": "execute_result"
    }
   ],
   "source": [
    "never_5_clf=Never5Classifier()\n",
    "cross_val_score(never_5_clf, X_train, y_train_5, cv=3, scoring=\"accuracy\")\n",
    "# this value is providing us with the accuracy of the model\n",
    "#How is this never 5? Task for later"
   ]
  },
  {
   "cell_type": "code",
   "execution_count": 151,
   "id": "e55fcdcf",
   "metadata": {},
   "outputs": [
    {
     "data": {
      "text/plain": [
       "array([[53570,  1009],\n",
       "       [ 1301,  4120]], dtype=int64)"
      ]
     },
     "execution_count": 151,
     "metadata": {},
     "output_type": "execute_result"
    }
   ],
   "source": [
    "from sklearn.model_selection import cross_val_predict\n",
    "sgd_clf2 = SGDClassifier(max_iter=1500, tol=1e-5, random_state=44,shuffle=True)\n",
    "#this is the state of SGD classifier/ manipulating the values of max_iter, tol and ran_state provides \n",
    "# with different set of confusion matrix plots\n",
    "y_train_pred = cross_val_predict(sgd_clf2, X_train, y_train_5, cv=3)\n",
    "#cross val predict is similar to cross_cal_score\n",
    "from sklearn.metrics import confusion_matrix\n",
    "confusion_matrix(y_train_5, y_train_pred)\n",
    "con_matrix=confusion_matrix(y_train_5, y_train_pred)\n",
    "\n",
    "# First row-non 5's ( correctly classified,wrongly classified)\n",
    "# Second row images of 5's(wrongly classified, correctly classified)\n",
    "# all the 3 datasets are split in an manner so that, there is no overlapp of the data"
   ]
  },
  {
   "cell_type": "code",
   "execution_count": 148,
   "id": "9bdc6b75",
   "metadata": {
    "scrolled": true
   },
   "outputs": [
    {
     "data": {
      "text/plain": [
       "array([ True, False, False, ...,  True, False, False])"
      ]
     },
     "execution_count": 148,
     "metadata": {},
     "output_type": "execute_result"
    },
    {
     "data": {
      "text/plain": [
       "(60000,)"
      ]
     },
     "execution_count": 148,
     "metadata": {},
     "output_type": "execute_result"
    }
   ],
   "source": [
    "y_train_pred\n",
    "y_train_pred.shape"
   ]
  },
  {
   "cell_type": "code",
   "execution_count": 163,
   "id": "1e9859db",
   "metadata": {},
   "outputs": [
    {
     "data": {
      "text/plain": [
       "0.8032754922986937"
      ]
     },
     "execution_count": 163,
     "metadata": {},
     "output_type": "execute_result"
    },
    {
     "data": {
      "text/plain": [
       "0.7600073787124146"
      ]
     },
     "execution_count": 163,
     "metadata": {},
     "output_type": "execute_result"
    }
   ],
   "source": [
    "4120/(4120+1009)\n",
    "4120/(4120+1301)"
   ]
  },
  {
   "cell_type": "code",
   "execution_count": 149,
   "id": "390e0480",
   "metadata": {},
   "outputs": [
    {
     "data": {
      "text/plain": [
       "0.8032754922986937"
      ]
     },
     "execution_count": 149,
     "metadata": {},
     "output_type": "execute_result"
    },
    {
     "data": {
      "text/plain": [
       "0.7600073787124146"
      ]
     },
     "execution_count": 149,
     "metadata": {},
     "output_type": "execute_result"
    }
   ],
   "source": [
    "# Precision and recall\n",
    "# Precision= TP/(TP+FP)=4/(2+4)\n",
    "# Recall = TP/(TP+FN)=4/(3+4)\n",
    "from sklearn.metrics import precision_score, recall_score\n",
    "precision_score(y_train_5, y_train_pred)\n",
    "recall_score(y_train_5, y_train_pred)\n",
    "x1=(con_matrix[0]+con_matrix[0])"
   ]
  },
  {
   "cell_type": "code",
   "execution_count": 164,
   "id": "41a28359",
   "metadata": {},
   "outputs": [
    {
     "data": {
      "text/plain": [
       "0.7810426540284361"
      ]
     },
     "execution_count": 164,
     "metadata": {},
     "output_type": "execute_result"
    }
   ],
   "source": [
    "# F1 score is an important evaluation parameter\n",
    "#High F1 values are obtained only when both the recal and precision are high\n",
    "# Precision-recall tradeoff's\n",
    "from sklearn.metrics import f1_score\n",
    "f1_score(y_train_5,y_train_pred)"
   ]
  },
  {
   "cell_type": "code",
   "execution_count": 207,
   "id": "342a32cf",
   "metadata": {
    "scrolled": true
   },
   "outputs": [
    {
     "data": {
      "text/plain": [
       "array([  2164.22030239,  -5897.37359354, -13489.14805779,  -4623.84515943,\n",
       "        -6873.05248453,  -3908.27576291,  -4851.9422397 ,  -4988.52407755,\n",
       "        -2226.78132866,  -4081.33692831,  -5711.47789687,   4742.52813158,\n",
       "       -10322.61970087,  -5028.5080424 ,  -2774.48933701,  -4757.62175338,\n",
       "        -7995.78737908,  -5478.98084419,  -2494.25572149,  -8689.98448487])"
      ]
     },
     "execution_count": 207,
     "metadata": {},
     "output_type": "execute_result"
    },
    {
     "data": {
      "text/plain": [
       "array([ True, False, False, False, False, False, False, False, False,\n",
       "       False, False,  True, False, False, False, False, False, False,\n",
       "       False, False])"
      ]
     },
     "execution_count": 207,
     "metadata": {},
     "output_type": "execute_result"
    }
   ],
   "source": [
    "#cannot access the threshold to classify, however one can access decision scores used in classification\n",
    "y_scores=sgd_clf.decision_function(X[:20])\n",
    "# Replacing somedigit by X[:1]\n",
    "y_scores # predicting scores\n",
    "threshold = 0\n",
    "y_some_digit_pred = (y_scores> threshold)\n",
    "y_some_digit_pred"
   ]
  },
  {
   "cell_type": "markdown",
   "id": "19739f76",
   "metadata": {},
   "source": [
    "#the limiting factor or value for true is 2164, 4742,\n",
    "#both >1"
   ]
  },
  {
   "cell_type": "code",
   "execution_count": 205,
   "id": "07bcef2d",
   "metadata": {},
   "outputs": [
    {
     "data": {
      "text/plain": [
       "array([ True, False, False, False, False, False, False, False, False,\n",
       "       False, False,  True, False, False, False, False, False, False,\n",
       "       False, False])"
      ]
     },
     "execution_count": 205,
     "metadata": {},
     "output_type": "execute_result"
    }
   ],
   "source": [
    "y_pred_score=sgd_clf.predict(X[:20])\n",
    "y_pred_score\n",
    "# y_pred_score\n",
    "# del y_pred_score, y_scores\n",
    "# sgd_clf = SGDClassifier(max_iter=1000, tol=1e-3, random_state=42,shuffle=True)\n",
    "# Reminder of classifier"
   ]
  },
  {
   "cell_type": "code",
   "execution_count": 215,
   "id": "1675db75",
   "metadata": {},
   "outputs": [
    {
     "data": {
      "text/plain": [
       "array([False, False, False, False, False, False, False, False, False,\n",
       "       False, False, False, False, False, False, False, False, False,\n",
       "       False, False])"
      ]
     },
     "execution_count": 215,
     "metadata": {},
     "output_type": "execute_result"
    }
   ],
   "source": [
    "threshold = 8000\n",
    "y_some_digit_pred = (y_scores > threshold)\n",
    "y_some_digit_pred"
   ]
  },
  {
   "cell_type": "code",
   "execution_count": 225,
   "id": "6a3dafeb",
   "metadata": {},
   "outputs": [],
   "source": [
    "# Trying to create a large number of subsets of those images\n",
    "# first_20 = X[:20]\n",
    "# for i<20\n",
    "#     i\n",
    "# first_20=first_20.to_numpy()\n",
    "# for \n",
    "# first_20 = first_20.reshape(28, 28)\n",
    "# plt.imshow(some_digit_image, cmap=mpl.cm.binary)\n",
    "# plt.axis(\"off\")\n",
    "# # save_fig(\"some_digit_plot\")\n",
    "# plt.show()"
   ]
  },
  {
   "cell_type": "code",
   "execution_count": null,
   "id": "b5eb7045",
   "metadata": {},
   "outputs": [],
   "source": [
    "y_scores = cross_val_predict(sgd_clf, X_train, y_train_5, cv=3, method =\"decision_function\")\n",
    "# y_train_pred = cross_val_predict(sgd_clf2, X_train, y_train_5, cv=3)\n",
    "# cross_val_pred has been used earlier. However, this time we pass another argument-\"decision_function\"\n"
   ]
  },
  {
   "cell_type": "code",
   "execution_count": null,
   "id": "d5a5b47e",
   "metadata": {},
   "outputs": [],
   "source": [
    "y_scores.size"
   ]
  }
 ],
 "metadata": {
  "kernelspec": {
   "display_name": "Hands_conda",
   "language": "python",
   "name": "hands_conda"
  },
  "language_info": {
   "codemirror_mode": {
    "name": "ipython",
    "version": 3
   },
   "file_extension": ".py",
   "mimetype": "text/x-python",
   "name": "python",
   "nbconvert_exporter": "python",
   "pygments_lexer": "ipython3",
   "version": "3.8.8"
  }
 },
 "nbformat": 4,
 "nbformat_minor": 5
}
