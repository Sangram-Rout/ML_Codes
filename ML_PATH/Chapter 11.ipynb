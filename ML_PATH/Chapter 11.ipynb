{
 "cells": [
  {
   "cell_type": "markdown",
   "id": "14ce6fb2",
   "metadata": {},
   "source": [
    "# Training deep neural nets"
   ]
  },
  {
   "cell_type": "code",
   "execution_count": 1,
   "id": "7da9600f",
   "metadata": {},
   "outputs": [],
   "source": [
    "# Using ReLU activation function modified\n",
    "import tensorflow as tf\n",
    "from tensorflow import keras\n",
    "tf.__version__\n",
    "import numpy as np"
   ]
  },
  {
   "cell_type": "code",
   "execution_count": 2,
   "id": "7ec73cd7",
   "metadata": {},
   "outputs": [],
   "source": [
    "# Tesnorboard visualization of parameters and run\n",
    "import os \n",
    "root_logdir = os.path.join(os.curdir, \"my_logs\")\n",
    "\n",
    "def get_run_logdir():\n",
    "    import time\n",
    "    run_id = time.strftime(\"run_%Y_%m_%d-%H_%M_%S\")\n",
    "    return os.path.join(root_logdir, run_id)\n",
    "\n",
    "run_logdir = get_run_logdir()\n"
   ]
  },
  {
   "cell_type": "code",
   "execution_count": 3,
   "id": "580408f6",
   "metadata": {},
   "outputs": [],
   "source": [
    "# Regression development using Multi-layer perceptron\n",
    "from sklearn.datasets import fetch_california_housing\n",
    "from sklearn.model_selection import train_test_split\n",
    "from sklearn.preprocessing import StandardScaler\n",
    "\n",
    "housing =fetch_california_housing()\n",
    "\n",
    "X_train_full, X_test, y_train_full, y_test = train_test_split(\n",
    "housing.data, housing.target)\n",
    "X_train, X_valid, y_train, y_valid=train_test_split(\n",
    "X_train_full, y_train_full)\n",
    "\n",
    "scaler=StandardScaler()\n",
    "X_train = scaler.fit_transform(X_train)\n",
    "X_valid = scaler.transform(X_valid)\n",
    "X_test = scaler.transform(X_test) "
   ]
  },
  {
   "cell_type": "code",
   "execution_count": 31,
   "id": "7567730c",
   "metadata": {},
   "outputs": [],
   "source": [
    "# Building complex models using functional API\n",
    "# For Image classificaton, the input shapes were in [28*28]\n",
    "input_ = keras.layers.Input(shape=X_train.shape[1:])\n",
    "# hidden1 = keras.layers.Dense(30, activation=\"relu\", kernel_initializer=\"he_normal\")(input_) \n",
    "# Activation after initialisation\n",
    "hidden1 = keras.layers.Dense(30, kernel_initializer=\"he_normal\", use_bias=False)(input_)\n",
    "BN1 = keras.layers.BatchNormalization()(hidden1)\n",
    "Activation1=keras.layers.Activation(\"relu\")(BN1)\n",
    "hidden2 = keras.layers.Dense(30, activation=\"relu\", kernel_initializer=\"he_normal\")(Activation1)\n",
    "BN2 = keras.layers.BatchNormalization()(hidden2)\n",
    "Activation2=keras.layers.Activation(\"relu\")(BN2)\n",
    "concat = keras.layers.Concatenate()([input_, Activation2])\n",
    "output = keras.layers.Dense(1)(concat)\n",
    "model = keras.Model(inputs=[input_], outputs=[output])\n",
    "# Keras model which inputs and outputs to use"
   ]
  },
  {
   "cell_type": "code",
   "execution_count": 7,
   "id": "e386745b",
   "metadata": {},
   "outputs": [],
   "source": [
    "# model = keras.models.Sequential()\n",
    "# model.add(keras.layers.Flatten(input_shape=X_train.shape[1:]))\n",
    "# model.add(keras.layers.Dense(10, kernel_initializer=\"he_normal\"))\n",
    "# model.add(keras.layers.LeakyReLU(alpha=0.2))\n",
    "# model.add(keras.layers.Dense(30, activation =\"relu\"))\n",
    "# model.add(keras.layers.Dense(30, activation=\"relu\"))\n"
   ]
  },
  {
   "cell_type": "code",
   "execution_count": 43,
   "id": "cff60c95",
   "metadata": {},
   "outputs": [],
   "source": [
    "# Compiling and training/running and evaluating final results\n",
    "# model.compile(loss=\"mean_squared_error\", optimizer =\"sgd\")\n",
    "# lr not reset on compilation, therefore we get errors\n",
    "optimizer=keras.optimizers.SGD(clipvalue=1.0,lr=1e-3)\n",
    "model.compile(loss=\"mse\", optimizer=optimizer)\n",
    "# model.compile(loss=\"mse\", optimizer=keras.optimizers.SGD(lr=1e-3))\n",
    "# history =  model.fit(X_train, y_train, epochs=20,\n",
    "#                     validation_data=(X_valid, y_valid))"
   ]
  },
  {
   "cell_type": "code",
   "execution_count": 44,
   "id": "fd015d6a",
   "metadata": {
    "scrolled": false
   },
   "outputs": [
    {
     "name": "stdout",
     "output_type": "stream",
     "text": [
      "Epoch 1/30\n",
      "  2/363 [..............................] - ETA: 3:11 - loss: 0.3122WARNING:tensorflow:Callbacks method `on_train_batch_end` is slow compared to the batch time (batch time: 0.0020s vs `on_train_batch_end` time: 1.0578s). Check your callbacks.\n",
      "363/363 [==============================] - 2s 5ms/step - loss: 0.4441 - val_loss: 0.7994\n",
      "Epoch 2/30\n",
      "363/363 [==============================] - 1s 2ms/step - loss: 0.4374 - val_loss: 0.6306\n",
      "Epoch 3/30\n",
      "363/363 [==============================] - 1s 3ms/step - loss: 0.4304 - val_loss: 0.9306\n",
      "Epoch 4/30\n",
      "363/363 [==============================] - 1s 4ms/step - loss: 0.4369 - val_loss: 0.6499\n",
      "Epoch 5/30\n",
      "363/363 [==============================] - 1s 4ms/step - loss: 0.4359 - val_loss: 0.8013\n",
      "Epoch 6/30\n",
      "363/363 [==============================] - 1s 4ms/step - loss: 0.4344 - val_loss: 0.6839\n",
      "Epoch 7/30\n",
      "363/363 [==============================] - 2s 4ms/step - loss: 0.4366 - val_loss: 0.8138\n",
      "Epoch 8/30\n",
      "363/363 [==============================] - 1s 4ms/step - loss: 0.4357 - val_loss: 0.8403\n",
      "Epoch 9/30\n",
      "363/363 [==============================] - 1s 4ms/step - loss: 0.4332 - val_loss: 0.9038\n",
      "Epoch 10/30\n",
      "363/363 [==============================] - 2s 4ms/step - loss: 0.4341 - val_loss: 0.6224\n",
      "Epoch 11/30\n",
      "363/363 [==============================] - 1s 4ms/step - loss: 0.4310 - val_loss: 0.9962\n",
      "Epoch 12/30\n",
      "363/363 [==============================] - 1s 4ms/step - loss: 0.4340 - val_loss: 0.7198\n",
      "Epoch 13/30\n",
      "363/363 [==============================] - 1s 3ms/step - loss: 0.4264 - val_loss: 0.6678\n",
      "Epoch 14/30\n",
      "363/363 [==============================] - 1s 4ms/step - loss: 0.4263 - val_loss: 0.5864\n",
      "Epoch 15/30\n",
      "363/363 [==============================] - 2s 4ms/step - loss: 0.4257 - val_loss: 0.6416\n",
      "Epoch 16/30\n",
      "363/363 [==============================] - 1s 4ms/step - loss: 0.4242 - val_loss: 0.8985\n",
      "Epoch 17/30\n",
      "363/363 [==============================] - 1s 2ms/step - loss: 0.4255 - val_loss: 0.6982\n",
      "Epoch 18/30\n",
      "363/363 [==============================] - 1s 3ms/step - loss: 0.4206 - val_loss: 0.7707\n",
      "Epoch 19/30\n",
      "363/363 [==============================] - 1s 3ms/step - loss: 0.4209 - val_loss: 0.8891\n",
      "Epoch 20/30\n",
      "363/363 [==============================] - 1s 4ms/step - loss: 0.4263 - val_loss: 0.9442\n",
      "Epoch 21/30\n",
      "363/363 [==============================] - 1s 4ms/step - loss: 0.4241 - val_loss: 0.8402\n",
      "Epoch 22/30\n",
      "363/363 [==============================] - 1s 4ms/step - loss: 0.4245 - val_loss: 0.7244\n",
      "Epoch 23/30\n",
      "363/363 [==============================] - 1s 4ms/step - loss: 0.4214 - val_loss: 0.6301\n",
      "Epoch 24/30\n",
      "363/363 [==============================] - 1s 4ms/step - loss: 0.4190 - val_loss: 0.9883\n",
      "Epoch 25/30\n",
      "363/363 [==============================] - 1s 4ms/step - loss: 0.4187 - val_loss: 0.9080\n",
      "Epoch 26/30\n",
      "363/363 [==============================] - 1s 4ms/step - loss: 0.4178 - val_loss: 0.5672\n",
      "Epoch 27/30\n",
      "363/363 [==============================] - 1s 4ms/step - loss: 0.4168 - val_loss: 1.0150\n",
      "Epoch 28/30\n",
      "363/363 [==============================] - 1s 3ms/step - loss: 0.4198 - val_loss: 0.7076\n",
      "Epoch 29/30\n",
      "363/363 [==============================] - 1s 4ms/step - loss: 0.4159 - val_loss: 0.5312\n",
      "Epoch 30/30\n",
      "363/363 [==============================] - 1s 4ms/step - loss: 0.4168 - val_loss: 0.8426\n"
     ]
    }
   ],
   "source": [
    "tensorboard_cb = keras.callbacks.TensorBoard(run_logdir)\n",
    "history = model.fit(X_train, y_train, epochs=30,\n",
    "                    validation_data=(X_valid, y_valid),\n",
    "                    callbacks=[tensorboard_cb])"
   ]
  },
  {
   "cell_type": "code",
   "execution_count": 9,
   "id": "77fad27a",
   "metadata": {},
   "outputs": [
    {
     "name": "stderr",
     "output_type": "stream",
     "text": [
      "'kill' is not recognized as an internal or external command,\n",
      "operable program or batch file.\n"
     ]
    }
   ],
   "source": [
    "!kill 24928"
   ]
  },
  {
   "cell_type": "code",
   "execution_count": 45,
   "id": "af3f2a02",
   "metadata": {},
   "outputs": [
    {
     "data": {
      "text/plain": [
       "<tensorflow.python.keras.engine.functional.Functional at 0x24b73406ee0>"
      ]
     },
     "execution_count": 45,
     "metadata": {},
     "output_type": "execute_result"
    }
   ],
   "source": [
    "model"
   ]
  },
  {
   "cell_type": "code",
   "execution_count": 46,
   "id": "e4e2ff83",
   "metadata": {
    "scrolled": true
   },
   "outputs": [
    {
     "data": {
      "text/plain": [
       "Reusing TensorBoard on port 6008 (pid 22372), started 4:27:17 ago. (Use '!kill 22372' to kill it.)"
      ]
     },
     "metadata": {},
     "output_type": "display_data"
    },
    {
     "data": {
      "text/html": [
       "\n",
       "      <iframe id=\"tensorboard-frame-f4d4f1d6f81c1501\" width=\"100%\" height=\"800\" frameborder=\"0\">\n",
       "      </iframe>\n",
       "      <script>\n",
       "        (function() {\n",
       "          const frame = document.getElementById(\"tensorboard-frame-f4d4f1d6f81c1501\");\n",
       "          const url = new URL(\"/\", window.location);\n",
       "          const port = 6008;\n",
       "          if (port) {\n",
       "            url.port = port;\n",
       "          }\n",
       "          frame.src = url;\n",
       "        })();\n",
       "      </script>\n",
       "    "
      ],
      "text/plain": [
       "<IPython.core.display.HTML object>"
      ]
     },
     "metadata": {},
     "output_type": "display_data"
    }
   ],
   "source": [
    "%reload_ext tensorboard\n",
    "%tensorboard --logdir=./my_logs --port=6008\n"
   ]
  },
  {
   "cell_type": "code",
   "execution_count": 47,
   "id": "a60642bb",
   "metadata": {},
   "outputs": [
    {
     "name": "stdout",
     "output_type": "stream",
     "text": [
      "162/162 [==============================] - 0s 1ms/step - loss: 0.7819\n"
     ]
    },
    {
     "data": {
      "text/plain": [
       "array([[1.2404711 ],\n",
       "       [0.98909724],\n",
       "       [6.2749667 ]], dtype=float32)"
      ]
     },
     "execution_count": 47,
     "metadata": {},
     "output_type": "execute_result"
    }
   ],
   "source": [
    "mse_test=model.evaluate(X_test, y_test)\n",
    "X_new = X_test[:3]\n",
    "y_pred=model.predict(X_new)\n",
    "y_pred"
   ]
  },
  {
   "cell_type": "code",
   "execution_count": 48,
   "id": "4cb5ffed",
   "metadata": {
    "scrolled": true
   },
   "outputs": [
    {
     "data": {
      "image/png": "[encoded data removed]",
      "text/plain": [
       "<Figure size 576x360 with 1 Axes>"
      ]
     },
     "metadata": {
      "needs_background": "light"
     },
     "output_type": "display_data"
    }
   ],
   "source": [
    "import pandas as pd\n",
    "import matplotlib.pyplot as plt\n",
    "\n",
    "pd.DataFrame(history.history).plot(figsize=(8, 5))\n",
    "plt.grid(True)\n",
    "plt.gca().set_ylim(0,1)\n",
    "plt.show()"
   ]
  },
  {
   "cell_type": "code",
   "execution_count": 38,
   "id": "d0cd08bc",
   "metadata": {},
   "outputs": [
    {
     "name": "stdout",
     "output_type": "stream",
     "text": [
      "Model: \"functional_15\"\n",
      "__________________________________________________________________________________________________\n",
      "Layer (type)                    Output Shape         Param #     Connected to                     \n",
      "==================================================================================================\n",
      "input_12 (InputLayer)           [(None, 8)]          0                                            \n",
      "__________________________________________________________________________________________________\n",
      "dense_29 (Dense)                (None, 30)           240         input_12[0][0]                   \n",
      "__________________________________________________________________________________________________\n",
      "batch_normalization_19 (BatchNo (None, 30)           120         dense_29[0][0]                   \n",
      "__________________________________________________________________________________________________\n",
      "activation (Activation)         (None, 30)           0           batch_normalization_19[0][0]     \n",
      "__________________________________________________________________________________________________\n",
      "dense_30 (Dense)                (None, 30)           930         activation[0][0]                 \n",
      "__________________________________________________________________________________________________\n",
      "batch_normalization_20 (BatchNo (None, 30)           120         dense_30[0][0]                   \n",
      "__________________________________________________________________________________________________\n",
      "activation_1 (Activation)       (None, 30)           0           batch_normalization_20[0][0]     \n",
      "__________________________________________________________________________________________________\n",
      "concatenate_8 (Concatenate)     (None, 38)           0           input_12[0][0]                   \n",
      "                                                                 activation_1[0][0]               \n",
      "__________________________________________________________________________________________________\n",
      "dense_31 (Dense)                (None, 1)            39          concatenate_8[0][0]              \n",
      "==================================================================================================\n",
      "Total params: 1,449\n",
      "Trainable params: 1,329\n",
      "Non-trainable params: 120\n",
      "__________________________________________________________________________________________________\n"
     ]
    }
   ],
   "source": [
    "model.summary()\n",
    "# We can see that batch normalization adds 4x30 = 120 Param to the model"
   ]
  },
  {
   "cell_type": "code",
   "execution_count": 27,
   "id": "07868376",
   "metadata": {},
   "outputs": [
    {
     "data": {
      "text/plain": [
       "[('batch_normalization_17/gamma:0', True),\n",
       " ('batch_normalization_17/beta:0', True),\n",
       " ('batch_normalization_17/moving_mean:0', False),\n",
       " ('batch_normalization_17/moving_variance:0', False)]"
      ]
     },
     "execution_count": 27,
     "metadata": {},
     "output_type": "execute_result"
    }
   ],
   "source": [
    "[(var.name, var.trainable) for var in model.layers[2].variables]"
   ]
  },
  {
   "cell_type": "code",
   "execution_count": 30,
   "id": "a9b7e213",
   "metadata": {},
   "outputs": [
    {
     "data": {
      "text/plain": [
       "[]"
      ]
     },
     "execution_count": 30,
     "metadata": {},
     "output_type": "execute_result"
    }
   ],
   "source": [
    "model.layers[1].updates"
   ]
  },
  {
   "cell_type": "code",
   "execution_count": null,
   "id": "90801879",
   "metadata": {},
   "outputs": [],
   "source": [
    "model = keras\n",
    "# Momentum- should have 0.99999 for larger datasets\n",
    "# Axis -for normalisation-1 (last axis)"
   ]
  },
  {
   "cell_type": "code",
   "execution_count": null,
   "id": "a75e5b12",
   "metadata": {},
   "outputs": [],
   "source": []
  }
 ],
 "metadata": {
  "kernelspec": {
   "display_name": "Hands_conda",
   "language": "python",
   "name": "hands_conda"
  },
  "language_info": {
   "codemirror_mode": {
    "name": "ipython",
    "version": 3
   },
   "file_extension": ".py",
   "mimetype": "text/x-python",
   "name": "python",
   "nbconvert_exporter": "python",
   "pygments_lexer": "ipython3",
   "version": "3.8.8"
  }
 },
 "nbformat": 4,
 "nbformat_minor": 5
}
